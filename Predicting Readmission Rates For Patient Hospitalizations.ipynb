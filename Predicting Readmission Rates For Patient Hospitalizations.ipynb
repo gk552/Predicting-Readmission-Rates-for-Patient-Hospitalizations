{
 "cells": [
  {
   "cell_type": "markdown",
   "id": "b89216c9",
   "metadata": {},
   "source": [
    "# Predicting Readmission Rates For Patient Hospitalizations"
   ]
  },
  {
   "cell_type": "markdown",
   "id": "f9a52643",
   "metadata": {},
   "source": [
    "## Import data and process data "
   ]
  },
  {
   "cell_type": "code",
   "execution_count": 1,
   "id": "b3d757e4",
   "metadata": {},
   "outputs": [],
   "source": [
    "import IPython\n",
    "import numpy as np\n",
    "import pandas as pd\n",
    "import seaborn as sns\n",
    "import scipy as sp\n",
    "from statistics import mode\n",
    "from scipy import stats\n",
    "from scipy.stats import norm\n",
    "from sklearn.preprocessing import MinMaxScaler\n",
    "import matplotlib.pyplot as plt\n",
    "%matplotlib inline"
   ]
  },
  {
   "cell_type": "code",
   "execution_count": 7,
   "id": "e83b8ed9",
   "metadata": {},
   "outputs": [
    {
     "data": {
      "text/plain": [
       "(101766, 50)"
      ]
     },
     "execution_count": 7,
     "metadata": {},
     "output_type": "execute_result"
    }
   ],
   "source": [
    "## Data Preview\n",
    "# Read the dataset into the dataframe \n",
    "data = pd.read_csv(\"C:/Users/gaura/OneDrive - IIT Kanpur/Desktop/Projects/Predicting Readmission Rates For Patient Hospitalizations/Hospital_readmission_prediction/diabetic_data.csv\")\n",
    "\n",
    "# Check the size of the dataset \n",
    "data.shape"
   ]
  },
  {
   "cell_type": "code",
   "execution_count": 8,
   "id": "9a0e2525",
   "metadata": {},
   "outputs": [
    {
     "name": "stdout",
     "output_type": "stream",
     "text": [
      "<class 'pandas.core.frame.DataFrame'>\n",
      "RangeIndex: 101766 entries, 0 to 101765\n",
      "Data columns (total 50 columns):\n",
      " #   Column                    Non-Null Count   Dtype \n",
      "---  ------                    --------------   ----- \n",
      " 0   encounter_id              101766 non-null  int64 \n",
      " 1   patient_nbr               101766 non-null  int64 \n",
      " 2   race                      101766 non-null  object\n",
      " 3   gender                    101766 non-null  object\n",
      " 4   age                       101766 non-null  object\n",
      " 5   weight                    101766 non-null  object\n",
      " 6   admission_type_id         101766 non-null  int64 \n",
      " 7   discharge_disposition_id  101766 non-null  int64 \n",
      " 8   admission_source_id       101766 non-null  int64 \n",
      " 9   time_in_hospital          101766 non-null  int64 \n",
      " 10  payer_code                101766 non-null  object\n",
      " 11  medical_specialty         101766 non-null  object\n",
      " 12  num_lab_procedures        101766 non-null  int64 \n",
      " 13  num_procedures            101766 non-null  int64 \n",
      " 14  num_medications           101766 non-null  int64 \n",
      " 15  number_outpatient         101766 non-null  int64 \n",
      " 16  number_emergency          101766 non-null  int64 \n",
      " 17  number_inpatient          101766 non-null  int64 \n",
      " 18  diag_1                    101766 non-null  object\n",
      " 19  diag_2                    101766 non-null  object\n",
      " 20  diag_3                    101766 non-null  object\n",
      " 21  number_diagnoses          101766 non-null  int64 \n",
      " 22  max_glu_serum             5346 non-null    object\n",
      " 23  A1Cresult                 17018 non-null   object\n",
      " 24  metformin                 101766 non-null  object\n",
      " 25  repaglinide               101766 non-null  object\n",
      " 26  nateglinide               101766 non-null  object\n",
      " 27  chlorpropamide            101766 non-null  object\n",
      " 28  glimepiride               101766 non-null  object\n",
      " 29  acetohexamide             101766 non-null  object\n",
      " 30  glipizide                 101766 non-null  object\n",
      " 31  glyburide                 101766 non-null  object\n",
      " 32  tolbutamide               101766 non-null  object\n",
      " 33  pioglitazone              101766 non-null  object\n",
      " 34  rosiglitazone             101766 non-null  object\n",
      " 35  acarbose                  101766 non-null  object\n",
      " 36  miglitol                  101766 non-null  object\n",
      " 37  troglitazone              101766 non-null  object\n",
      " 38  tolazamide                101766 non-null  object\n",
      " 39  examide                   101766 non-null  object\n",
      " 40  citoglipton               101766 non-null  object\n",
      " 41  insulin                   101766 non-null  object\n",
      " 42  glyburide-metformin       101766 non-null  object\n",
      " 43  glipizide-metformin       101766 non-null  object\n",
      " 44  glimepiride-pioglitazone  101766 non-null  object\n",
      " 45  metformin-rosiglitazone   101766 non-null  object\n",
      " 46  metformin-pioglitazone    101766 non-null  object\n",
      " 47  change                    101766 non-null  object\n",
      " 48  diabetesMed               101766 non-null  object\n",
      " 49  readmitted                101766 non-null  object\n",
      "dtypes: int64(13), object(37)\n",
      "memory usage: 38.8+ MB\n"
     ]
    }
   ],
   "source": [
    "# Check the overall information:data typle and null values\n",
    "data.info()"
   ]
  },
  {
   "cell_type": "code",
   "execution_count": 9,
   "id": "e09d9077",
   "metadata": {},
   "outputs": [
    {
     "name": "stdout",
     "output_type": "stream",
     "text": [
      "                 count\n",
      "race                  \n",
      "Caucasian        76099\n",
      "AfricanAmerican  19210\n",
      "?                 2273\n",
      "Hispanic          2037\n",
      "Other             1506\n",
      "Asian              641\n",
      "                 count\n",
      "gender                \n",
      "Female           54708\n",
      "Male             47055\n",
      "Unknown/Invalid      3\n",
      "          count\n",
      "age            \n",
      "[70-80)   26068\n",
      "[60-70)   22483\n",
      "[50-60)   17256\n",
      "[80-90)   17197\n",
      "[40-50)    9685\n",
      "[30-40)    3775\n",
      "[90-100)   2793\n",
      "[20-30)    1657\n",
      "[10-20)     691\n",
      "[0-10)      161\n",
      "           count\n",
      "weight          \n",
      "?          98569\n",
      "[75-100)    1336\n",
      "[50-75)      897\n",
      "[100-125)    625\n",
      "[125-150)    145\n",
      "[25-50)       97\n",
      "[0-25)        48\n",
      "[150-175)     35\n",
      "[175-200)     11\n",
      ">200           3\n",
      "            count\n",
      "payer_code       \n",
      "?           40256\n",
      "MC          32439\n",
      "HM           6274\n",
      "SP           5007\n",
      "BC           4655\n",
      "MD           3532\n",
      "CP           2533\n",
      "UN           2448\n",
      "CM           1937\n",
      "OG           1033\n",
      "PO            592\n",
      "DM            549\n",
      "CH            146\n",
      "WC            135\n",
      "OT             95\n",
      "MP             79\n",
      "SI             55\n",
      "FR              1\n",
      "                               count\n",
      "medical_specialty                   \n",
      "?                              49949\n",
      "InternalMedicine               14635\n",
      "Emergency/Trauma                7565\n",
      "Family/GeneralPractice          7440\n",
      "Cardiology                      5352\n",
      "...                              ...\n",
      "SportsMedicine                     1\n",
      "Speech                             1\n",
      "Perinatology                       1\n",
      "Neurophysiology                    1\n",
      "Pediatrics-InfectiousDiseases      1\n",
      "\n",
      "[73 rows x 1 columns]\n",
      "        count\n",
      "diag_1       \n",
      "428      6862\n",
      "414      6581\n",
      "786      4016\n",
      "410      3614\n",
      "486      3508\n",
      "...       ...\n",
      "373         1\n",
      "314         1\n",
      "684         1\n",
      "217         1\n",
      "V51         1\n",
      "\n",
      "[717 rows x 1 columns]\n",
      "        count\n",
      "diag_2       \n",
      "276      6752\n",
      "428      6662\n",
      "250      6071\n",
      "427      5036\n",
      "401      3736\n",
      "...       ...\n",
      "E918        1\n",
      "46          1\n",
      "V13         1\n",
      "E850        1\n",
      "927         1\n",
      "\n",
      "[749 rows x 1 columns]\n",
      "        count\n",
      "diag_3       \n",
      "250     11555\n",
      "401      8289\n",
      "276      5175\n",
      "428      4577\n",
      "427      3955\n",
      "...       ...\n",
      "657         1\n",
      "684         1\n",
      "603         1\n",
      "E826        1\n",
      "971         1\n",
      "\n",
      "[790 rows x 1 columns]\n",
      "               count\n",
      "max_glu_serum       \n",
      "Norm            2597\n",
      ">200            1485\n",
      ">300            1264\n",
      "           count\n",
      "A1Cresult       \n",
      ">8          8216\n",
      "Norm        4990\n",
      ">7          3812\n",
      "           count\n",
      "metformin       \n",
      "No         81778\n",
      "Steady     18346\n",
      "Up          1067\n",
      "Down         575\n",
      "              count\n",
      "repaglinide        \n",
      "No           100227\n",
      "Steady         1384\n",
      "Up              110\n",
      "Down             45\n",
      "              count\n",
      "nateglinide        \n",
      "No           101063\n",
      "Steady          668\n",
      "Up               24\n",
      "Down             11\n",
      "                 count\n",
      "chlorpropamide        \n",
      "No              101680\n",
      "Steady              79\n",
      "Up                   6\n",
      "Down                 1\n",
      "             count\n",
      "glimepiride       \n",
      "No           96575\n",
      "Steady        4670\n",
      "Up             327\n",
      "Down           194\n",
      "                count\n",
      "acetohexamide        \n",
      "No             101765\n",
      "Steady              1\n",
      "           count\n",
      "glipizide       \n",
      "No         89080\n",
      "Steady     11356\n",
      "Up           770\n",
      "Down         560\n",
      "           count\n",
      "glyburide       \n",
      "No         91116\n",
      "Steady      9274\n",
      "Up           812\n",
      "Down         564\n",
      "              count\n",
      "tolbutamide        \n",
      "No           101743\n",
      "Steady           23\n",
      "              count\n",
      "pioglitazone       \n",
      "No            94438\n",
      "Steady         6976\n",
      "Up              234\n",
      "Down            118\n",
      "               count\n",
      "rosiglitazone       \n",
      "No             95401\n",
      "Steady          6100\n",
      "Up               178\n",
      "Down              87\n",
      "           count\n",
      "acarbose        \n",
      "No        101458\n",
      "Steady       295\n",
      "Up            10\n",
      "Down           3\n",
      "           count\n",
      "miglitol        \n",
      "No        101728\n",
      "Steady        31\n",
      "Down           5\n",
      "Up             2\n",
      "               count\n",
      "troglitazone        \n",
      "No            101763\n",
      "Steady             3\n",
      "             count\n",
      "tolazamide        \n",
      "No          101727\n",
      "Steady          38\n",
      "Up               1\n",
      "          count\n",
      "examide        \n",
      "No       101766\n",
      "              count\n",
      "citoglipton        \n",
      "No           101766\n",
      "         count\n",
      "insulin       \n",
      "No       47383\n",
      "Steady   30849\n",
      "Down     12218\n",
      "Up       11316\n",
      "                      count\n",
      "glyburide-metformin        \n",
      "No                   101060\n",
      "Steady                  692\n",
      "Up                        8\n",
      "Down                      6\n",
      "                      count\n",
      "glipizide-metformin        \n",
      "No                   101753\n",
      "Steady                   13\n",
      "                           count\n",
      "glimepiride-pioglitazone        \n",
      "No                        101765\n",
      "Steady                         1\n",
      "                          count\n",
      "metformin-rosiglitazone        \n",
      "No                       101764\n",
      "Steady                        2\n",
      "                         count\n",
      "metformin-pioglitazone        \n",
      "No                      101765\n",
      "Steady                       1\n",
      "        count\n",
      "change       \n",
      "No      54755\n",
      "Ch      47011\n",
      "             count\n",
      "diabetesMed       \n",
      "Yes          78363\n",
      "No           23403\n",
      "            count\n",
      "readmitted       \n",
      "NO          54864\n",
      ">30         35545\n",
      "<30         11357\n"
     ]
    },
    {
     "data": {
      "text/plain": [
       "'There are no null values in the dataset'"
      ]
     },
     "execution_count": 9,
     "metadata": {},
     "output_type": "execute_result"
    }
   ],
   "source": [
    "# recheck the object data type \n",
    "for i in data.columns:\n",
    "    if data[i].dtype==object:\n",
    "        d= data[i].value_counts()\n",
    "        print(pd.DataFrame(data=d))\n",
    "\"\"\"There are no null values in the dataset\"\"\""
   ]
  },
  {
   "cell_type": "code",
   "execution_count": 10,
   "id": "62087df9",
   "metadata": {},
   "outputs": [
    {
     "data": {
      "text/html": [
       "<div>\n",
       "<style scoped>\n",
       "    .dataframe tbody tr th:only-of-type {\n",
       "        vertical-align: middle;\n",
       "    }\n",
       "\n",
       "    .dataframe tbody tr th {\n",
       "        vertical-align: top;\n",
       "    }\n",
       "\n",
       "    .dataframe thead th {\n",
       "        text-align: right;\n",
       "    }\n",
       "</style>\n",
       "<table border=\"1\" class=\"dataframe\">\n",
       "  <thead>\n",
       "    <tr style=\"text-align: right;\">\n",
       "      <th></th>\n",
       "      <th>count</th>\n",
       "      <th>mean</th>\n",
       "      <th>std</th>\n",
       "      <th>min</th>\n",
       "      <th>25%</th>\n",
       "      <th>50%</th>\n",
       "      <th>75%</th>\n",
       "      <th>max</th>\n",
       "    </tr>\n",
       "  </thead>\n",
       "  <tbody>\n",
       "    <tr>\n",
       "      <th>encounter_id</th>\n",
       "      <td>101766.0</td>\n",
       "      <td>1.652016e+08</td>\n",
       "      <td>1.026403e+08</td>\n",
       "      <td>12522.0</td>\n",
       "      <td>84961194.0</td>\n",
       "      <td>152388987.0</td>\n",
       "      <td>2.302709e+08</td>\n",
       "      <td>443867222.0</td>\n",
       "    </tr>\n",
       "    <tr>\n",
       "      <th>patient_nbr</th>\n",
       "      <td>101766.0</td>\n",
       "      <td>5.433040e+07</td>\n",
       "      <td>3.869636e+07</td>\n",
       "      <td>135.0</td>\n",
       "      <td>23413221.0</td>\n",
       "      <td>45505143.0</td>\n",
       "      <td>8.754595e+07</td>\n",
       "      <td>189502619.0</td>\n",
       "    </tr>\n",
       "    <tr>\n",
       "      <th>admission_type_id</th>\n",
       "      <td>101766.0</td>\n",
       "      <td>2.024006e+00</td>\n",
       "      <td>1.445403e+00</td>\n",
       "      <td>1.0</td>\n",
       "      <td>1.0</td>\n",
       "      <td>1.0</td>\n",
       "      <td>3.000000e+00</td>\n",
       "      <td>8.0</td>\n",
       "    </tr>\n",
       "    <tr>\n",
       "      <th>discharge_disposition_id</th>\n",
       "      <td>101766.0</td>\n",
       "      <td>3.715642e+00</td>\n",
       "      <td>5.280166e+00</td>\n",
       "      <td>1.0</td>\n",
       "      <td>1.0</td>\n",
       "      <td>1.0</td>\n",
       "      <td>4.000000e+00</td>\n",
       "      <td>28.0</td>\n",
       "    </tr>\n",
       "    <tr>\n",
       "      <th>admission_source_id</th>\n",
       "      <td>101766.0</td>\n",
       "      <td>5.754437e+00</td>\n",
       "      <td>4.064081e+00</td>\n",
       "      <td>1.0</td>\n",
       "      <td>1.0</td>\n",
       "      <td>7.0</td>\n",
       "      <td>7.000000e+00</td>\n",
       "      <td>25.0</td>\n",
       "    </tr>\n",
       "    <tr>\n",
       "      <th>time_in_hospital</th>\n",
       "      <td>101766.0</td>\n",
       "      <td>4.395987e+00</td>\n",
       "      <td>2.985108e+00</td>\n",
       "      <td>1.0</td>\n",
       "      <td>2.0</td>\n",
       "      <td>4.0</td>\n",
       "      <td>6.000000e+00</td>\n",
       "      <td>14.0</td>\n",
       "    </tr>\n",
       "    <tr>\n",
       "      <th>num_lab_procedures</th>\n",
       "      <td>101766.0</td>\n",
       "      <td>4.309564e+01</td>\n",
       "      <td>1.967436e+01</td>\n",
       "      <td>1.0</td>\n",
       "      <td>31.0</td>\n",
       "      <td>44.0</td>\n",
       "      <td>5.700000e+01</td>\n",
       "      <td>132.0</td>\n",
       "    </tr>\n",
       "    <tr>\n",
       "      <th>num_procedures</th>\n",
       "      <td>101766.0</td>\n",
       "      <td>1.339730e+00</td>\n",
       "      <td>1.705807e+00</td>\n",
       "      <td>0.0</td>\n",
       "      <td>0.0</td>\n",
       "      <td>1.0</td>\n",
       "      <td>2.000000e+00</td>\n",
       "      <td>6.0</td>\n",
       "    </tr>\n",
       "    <tr>\n",
       "      <th>num_medications</th>\n",
       "      <td>101766.0</td>\n",
       "      <td>1.602184e+01</td>\n",
       "      <td>8.127566e+00</td>\n",
       "      <td>1.0</td>\n",
       "      <td>10.0</td>\n",
       "      <td>15.0</td>\n",
       "      <td>2.000000e+01</td>\n",
       "      <td>81.0</td>\n",
       "    </tr>\n",
       "    <tr>\n",
       "      <th>number_outpatient</th>\n",
       "      <td>101766.0</td>\n",
       "      <td>3.693572e-01</td>\n",
       "      <td>1.267265e+00</td>\n",
       "      <td>0.0</td>\n",
       "      <td>0.0</td>\n",
       "      <td>0.0</td>\n",
       "      <td>0.000000e+00</td>\n",
       "      <td>42.0</td>\n",
       "    </tr>\n",
       "    <tr>\n",
       "      <th>number_emergency</th>\n",
       "      <td>101766.0</td>\n",
       "      <td>1.978362e-01</td>\n",
       "      <td>9.304723e-01</td>\n",
       "      <td>0.0</td>\n",
       "      <td>0.0</td>\n",
       "      <td>0.0</td>\n",
       "      <td>0.000000e+00</td>\n",
       "      <td>76.0</td>\n",
       "    </tr>\n",
       "    <tr>\n",
       "      <th>number_inpatient</th>\n",
       "      <td>101766.0</td>\n",
       "      <td>6.355659e-01</td>\n",
       "      <td>1.262863e+00</td>\n",
       "      <td>0.0</td>\n",
       "      <td>0.0</td>\n",
       "      <td>0.0</td>\n",
       "      <td>1.000000e+00</td>\n",
       "      <td>21.0</td>\n",
       "    </tr>\n",
       "    <tr>\n",
       "      <th>number_diagnoses</th>\n",
       "      <td>101766.0</td>\n",
       "      <td>7.422607e+00</td>\n",
       "      <td>1.933600e+00</td>\n",
       "      <td>1.0</td>\n",
       "      <td>6.0</td>\n",
       "      <td>8.0</td>\n",
       "      <td>9.000000e+00</td>\n",
       "      <td>16.0</td>\n",
       "    </tr>\n",
       "  </tbody>\n",
       "</table>\n",
       "</div>"
      ],
      "text/plain": [
       "                             count          mean           std      min  \\\n",
       "encounter_id              101766.0  1.652016e+08  1.026403e+08  12522.0   \n",
       "patient_nbr               101766.0  5.433040e+07  3.869636e+07    135.0   \n",
       "admission_type_id         101766.0  2.024006e+00  1.445403e+00      1.0   \n",
       "discharge_disposition_id  101766.0  3.715642e+00  5.280166e+00      1.0   \n",
       "admission_source_id       101766.0  5.754437e+00  4.064081e+00      1.0   \n",
       "time_in_hospital          101766.0  4.395987e+00  2.985108e+00      1.0   \n",
       "num_lab_procedures        101766.0  4.309564e+01  1.967436e+01      1.0   \n",
       "num_procedures            101766.0  1.339730e+00  1.705807e+00      0.0   \n",
       "num_medications           101766.0  1.602184e+01  8.127566e+00      1.0   \n",
       "number_outpatient         101766.0  3.693572e-01  1.267265e+00      0.0   \n",
       "number_emergency          101766.0  1.978362e-01  9.304723e-01      0.0   \n",
       "number_inpatient          101766.0  6.355659e-01  1.262863e+00      0.0   \n",
       "number_diagnoses          101766.0  7.422607e+00  1.933600e+00      1.0   \n",
       "\n",
       "                                 25%          50%           75%          max  \n",
       "encounter_id              84961194.0  152388987.0  2.302709e+08  443867222.0  \n",
       "patient_nbr               23413221.0   45505143.0  8.754595e+07  189502619.0  \n",
       "admission_type_id                1.0          1.0  3.000000e+00          8.0  \n",
       "discharge_disposition_id         1.0          1.0  4.000000e+00         28.0  \n",
       "admission_source_id              1.0          7.0  7.000000e+00         25.0  \n",
       "time_in_hospital                 2.0          4.0  6.000000e+00         14.0  \n",
       "num_lab_procedures              31.0         44.0  5.700000e+01        132.0  \n",
       "num_procedures                   0.0          1.0  2.000000e+00          6.0  \n",
       "num_medications                 10.0         15.0  2.000000e+01         81.0  \n",
       "number_outpatient                0.0          0.0  0.000000e+00         42.0  \n",
       "number_emergency                 0.0          0.0  0.000000e+00         76.0  \n",
       "number_inpatient                 0.0          0.0  1.000000e+00         21.0  \n",
       "number_diagnoses                 6.0          8.0  9.000000e+00         16.0  "
      ]
     },
     "execution_count": 10,
     "metadata": {},
     "output_type": "execute_result"
    }
   ],
   "source": [
    "# Check the numerical data values \n",
    "data.describe().transpose()"
   ]
  },
  {
   "cell_type": "markdown",
   "id": "74a31430",
   "metadata": {},
   "source": [
    "## Attribute Plotting "
   ]
  },
  {
   "cell_type": "markdown",
   "id": "4289d498",
   "metadata": {},
   "source": [
    "### Readmission Rate Count "
   ]
  },
  {
   "cell_type": "code",
   "execution_count": 11,
   "id": "b9be288f",
   "metadata": {},
   "outputs": [
    {
     "data": {
      "text/plain": [
       "<Axes: title={'center': 'Readmission_count'}, xlabel='readmitted'>"
      ]
     },
     "execution_count": 11,
     "metadata": {},
     "output_type": "execute_result"
    },
    {
     "data": {
      "image/png": "[encoded data removed]",
      "text/plain": [
       "<Figure size 640x480 with 1 Axes>"
      ]
     },
     "metadata": {},
     "output_type": "display_data"
    }
   ],
   "source": [
    "target_count=data['readmitted'].value_counts()\n",
    "target_count.plot(kind='bar', title='Readmission_count')"
   ]
  },
  {
   "cell_type": "markdown",
   "id": "dd464d78",
   "metadata": {},
   "source": [
    "### Age and Gender Count"
   ]
  },
  {
   "cell_type": "code",
   "execution_count": 12,
   "id": "214f493c",
   "metadata": {},
   "outputs": [
    {
     "data": {
      "image/png": "[encoded data removed]",
      "text/plain": [
       "<Figure size 1600x500 with 2 Axes>"
      ]
     },
     "metadata": {},
     "output_type": "display_data"
    }
   ],
   "source": [
    "age_count=data[\"age\"].value_counts()\n",
    "gender_count=data[\"gender\"].value_counts()# Have to deal with unkown/invalid count \n",
    "fig,(ax1, ax2)= plt.subplots(1,2,figsize=(16,5))\n",
    "_ = age_count.plot(kind='bar',title='Age Distribtion',ax=ax1)\n",
    "_ = gender_count.plot(kind='bar',title='Gender Distribtion',ax=ax2)"
   ]
  },
  {
   "cell_type": "markdown",
   "id": "9ed65574",
   "metadata": {},
   "source": [
    "### Race and Weight Count "
   ]
  },
  {
   "cell_type": "code",
   "execution_count": 13,
   "id": "af4cf358",
   "metadata": {},
   "outputs": [
    {
     "data": {
      "image/png": "[encoded data removed]",
      "text/plain": [
       "<Figure size 1600x500 with 2 Axes>"
      ]
     },
     "metadata": {},
     "output_type": "display_data"
    }
   ],
   "source": [
    "race_count=data[\"race\"].value_counts()\n",
    "weight_count=data[\"weight\"].value_counts()# Have to deal with unkown/invalid count \n",
    "fig,(ax1, ax2)= plt.subplots(1,2,figsize=(16,5))\n",
    "_ = race_count.plot(kind='bar',title='Race Distribtion',ax=ax1)# Missing values\n",
    "_ = weight_count.plot(kind='bar',title='Weight Distribtion',ax=ax2)# Missing values "
   ]
  },
  {
   "cell_type": "markdown",
   "id": "7465927e",
   "metadata": {},
   "source": [
    "### Numerical data Distribution "
   ]
  },
  {
   "cell_type": "code",
   "execution_count": null,
   "id": "7f71410f",
   "metadata": {},
   "outputs": [
    {
     "name": "stderr",
     "output_type": "stream",
     "text": [
      "C:\\Users\\gaura\\anaconda3\\Lib\\site-packages\\seaborn\\axisgrid.py:2100: UserWarning: The `size` parameter has been renamed to `height`; please update your code.\n",
      "  warnings.warn(msg, UserWarning)\n"
     ]
    }
   ],
   "source": [
    "num_col = list(set(list(data._get_numeric_data().columns))- {'readmitted'})\n",
    "sns.set()\n",
    "sns.pairplot(data[num_col], size = 2.5)\n",
    "plt.show();"
   ]
  },
  {
   "cell_type": "markdown",
   "id": "c875625a",
   "metadata": {},
   "source": [
    "# Data Processing"
   ]
  },
  {
   "cell_type": "code",
   "execution_count": null,
   "id": "a3f3da8b",
   "metadata": {},
   "outputs": [],
   "source": [
    "# Make a copy of the file for pre-processing \n",
    "train = data.copy(deep=True)"
   ]
  },
  {
   "cell_type": "markdown",
   "id": "7cd2ffe5",
   "metadata": {},
   "source": [
    "## Processing object-type missing values"
   ]
  },
  {
   "cell_type": "code",
   "execution_count": null,
   "id": "b6511dbe",
   "metadata": {},
   "outputs": [],
   "source": [
    "df = []\n",
    "# Checkthe percentage of the missing values \n",
    "for col in train.columns:\n",
    "    if train[col].dtype == object:\n",
    "        count_missing = train[col][train[col] == '?'].count()\n",
    "        percent_missing = (count_missing.sum()/train.shape[0]*100).round(2)\n",
    "#         print(col,count_missing,percent_missing)\n",
    "        df.append([col,count_missing,percent_missing])\n",
    "missing_value=pd.DataFrame(df,columns=[\"col\",\"count_missing\",\"percent_missing\"]).sort_values(by=\"percent_missing\",ascending=False)\n",
    "missing_value"
   ]
  },
  {
   "cell_type": "markdown",
   "id": "606a11b3",
   "metadata": {},
   "source": [
    "### Drop high missing values "
   ]
  },
  {
   "cell_type": "code",
   "execution_count": null,
   "id": "78344c78",
   "metadata": {},
   "outputs": [],
   "source": [
    "# drop the irrelavant and high missing value variables\n",
    "# drop weight because of its high missing value 97% \n",
    "# drop medical_specialty because of its high missing value 49.8%\n",
    "train=train.drop(['weight','medical_specialty'],axis=1)\n",
    "# drop payer_code because it is irrelevant to our studies \n",
    "train=train.drop(['payer_code'],axis=1)\n",
    "# Drop only the missing values in all three diagonosis categories \n",
    "train = train.drop(set(train[(train['diag_1']== '?') & (train['diag_2'] == '?') & (train['diag_3'] == '?')].index))\n",
    "# Drop the patients who is expired after discharge which is out of our interest population\n",
    "train = train.drop(set(train[train['discharge_disposition_id']==11].index))"
   ]
  },
  {
   "cell_type": "code",
   "execution_count": null,
   "id": "833892ce",
   "metadata": {},
   "outputs": [],
   "source": [
    "train.shape"
   ]
  },
  {
   "cell_type": "markdown",
   "id": "22bdff29",
   "metadata": {},
   "source": [
    "### Drop missing values in 'Gender' and 'Race'"
   ]
  },
  {
   "cell_type": "code",
   "execution_count": null,
   "id": "048f0b0c",
   "metadata": {},
   "outputs": [],
   "source": [
    "# Process the missing values in gender\n",
    "print('gender', train['gender'][train['gender'] == 'Unknown/Invalid'].count()) #only 3 missing values \n",
    "train = train.drop(set(train['gender'][train['gender'] == 'Unknown/Invalid'].index))\n",
    "# Process the missing values in race\n",
    "train= train.drop(set(train['race'][train['race']=='?'].index)) # drop the 2273 missing values "
   ]
  },
  {
   "cell_type": "code",
   "execution_count": null,
   "id": "f2c1393b",
   "metadata": {},
   "outputs": [],
   "source": [
    "train.shape"
   ]
  },
  {
   "cell_type": "markdown",
   "id": "f30d2e24",
   "metadata": {},
   "source": [
    "### Drop irrelevant variables"
   ]
  },
  {
   "cell_type": "code",
   "execution_count": null,
   "id": "b26e652d",
   "metadata": {},
   "outputs": [],
   "source": [
    "# Drop irrelevant variables and high percent missing varaibles \n",
    "train=train.drop([\"encounter_id\",\"patient_nbr\"],axis=1)"
   ]
  },
  {
   "cell_type": "code",
   "execution_count": null,
   "id": "964bd73f",
   "metadata": {},
   "outputs": [],
   "source": [
    "# Drop two attributes citoglipton and examide that have the all same value\n",
    "train=train.drop([\"citoglipton\",\"examide\"],axis = 1)"
   ]
  },
  {
   "cell_type": "markdown",
   "id": "c77e0c30",
   "metadata": {},
   "source": [
    "## Creating/recoding new features"
   ]
  },
  {
   "cell_type": "code",
   "execution_count": null,
   "id": "2aa5c9c0",
   "metadata": {},
   "outputs": [],
   "source": [
    "train.shape"
   ]
  },
  {
   "cell_type": "markdown",
   "id": "3aee7913",
   "metadata": {},
   "source": [
    "### Create new feature: patient_service "
   ]
  },
  {
   "cell_type": "code",
   "execution_count": null,
   "id": "5a7b18c0",
   "metadata": {},
   "outputs": [],
   "source": [
    "# Create a new feature service_utilization\n",
    "train['patient_service'] = train['number_outpatient'] + train['number_emergency'] + train['number_inpatient']"
   ]
  },
  {
   "cell_type": "markdown",
   "id": "bf9e3180",
   "metadata": {},
   "source": [
    "### Create new feature: med_change"
   ]
  },
  {
   "cell_type": "code",
   "execution_count": null,
   "id": "c790ddc4",
   "metadata": {},
   "outputs": [],
   "source": [
    "# Create a new variable to calculate the change of medication dose\n",
    "keys = ['metformin', 'repaglinide', 'nateglinide', 'chlorpropamide', 'glimepiride', 'glipizide', 'glyburide', \n",
    "        'pioglitazone', 'rosiglitazone', 'acarbose', 'miglitol', 'insulin', 'glyburide-metformin', 'tolazamide', \n",
    "        'metformin-pioglitazone','metformin-rosiglitazone', 'glimepiride-pioglitazone', \n",
    "        'glipizide-metformin', 'troglitazone', 'tolbutamide', 'acetohexamide']"
   ]
  },
  {
   "cell_type": "code",
   "execution_count": null,
   "id": "b6e478e1",
   "metadata": {},
   "outputs": [],
   "source": [
    "for col in keys:\n",
    "    col_name = str(col) + 'new' #change the column name \n",
    "    train[col_name] = train[col].apply(lambda x: 0 if (x == 'No' or x == 'Steady') else 1)# recode the med use into binary variable\n",
    "train['med_change'] = 0\n",
    "for col in keys:\n",
    "    col_name = str(col) + 'new'\n",
    "    train['med_change'] = train['med_change'] + train[col_name]\n",
    "    del train[col_name]"
   ]
  },
  {
   "cell_type": "code",
   "execution_count": null,
   "id": "65cfb036",
   "metadata": {},
   "outputs": [],
   "source": [
    "# Check the status of the new feature med_change\n",
    "train['med_change'].value_counts()"
   ]
  },
  {
   "cell_type": "markdown",
   "id": "38a17aeb",
   "metadata": {},
   "source": [
    "### Create new feature: num_med"
   ]
  },
  {
   "cell_type": "code",
   "execution_count": null,
   "id": "b9c391df",
   "metadata": {},
   "outputs": [],
   "source": [
    "# calculate the number of medications used for each patient \n",
    "for col in keys:\n",
    "    train[col] = train[col].replace('No', 0)\n",
    "    train[col] = train[col].replace('Steady', 1)\n",
    "    train[col] = train[col].replace('Up', 1)\n",
    "    train[col] = train[col].replace('Down', 1) \n",
    "train['num_med'] = 0\n",
    "for col in keys:\n",
    "    train['num_med'] = train['num_med'] + train[col]"
   ]
  },
  {
   "cell_type": "code",
   "execution_count": null,
   "id": "5c96e869",
   "metadata": {},
   "outputs": [],
   "source": [
    "train['num_med'].value_counts()"
   ]
  },
  {
   "cell_type": "markdown",
   "id": "370048af",
   "metadata": {},
   "source": [
    "### Recode diagnosis into new categories "
   ]
  },
  {
   "cell_type": "code",
   "execution_count": null,
   "id": "69d4ea9b",
   "metadata": {},
   "outputs": [],
   "source": [
    "\"\"\"diag_1=primary diagnosis; diag_2=secondary diagnosis; diag_3=additional diagnosis\\\n",
    "i\"\"\"\n",
    "# duplicate a diagnosis column\n",
    "train['primary_diag'] = train['diag_1']\n",
    "train['secondary_diag'] = train['diag_2']\n",
    "train['additional_diag'] = train['diag_3']"
   ]
  },
  {
   "cell_type": "code",
   "execution_count": null,
   "id": "0c92a8c1",
   "metadata": {},
   "outputs": [],
   "source": [
    "# replace the unknown values \"?\" with -1\n",
    "train['primary_diag'] = train['primary_diag'].replace('?', -1)\n",
    "train['secondary_diag'] = train['secondary_diag'].replace('?', -1)\n",
    "train['additional_diag'] = train['additional_diag'].replace('?', -1)"
   ]
  },
  {
   "cell_type": "code",
   "execution_count": null,
   "id": "c9ab9cd1",
   "metadata": {},
   "outputs": [],
   "source": [
    "# recode ICE code of V or E to “other” category = 0\n",
    "train.loc[train['diag_1'].str.contains('V'), ['primary_diag']] = 0\n",
    "train.loc[train['diag_1'].str.contains('E'), ['primary_diag']] = 0\n",
    "train.loc[train['diag_2'].str.contains('V'), ['secondary_diag']] = 0\n",
    "train.loc[train['diag_2'].str.contains('E'), ['secondary_diag']] = 0\n",
    "train.loc[train['diag_3'].str.contains('V'), ['additional_diag']] = 0\n",
    "train.loc[train['diag_3'].str.contains('E'), ['additional_diag']] = 0"
   ]
  },
  {
   "cell_type": "code",
   "execution_count": null,
   "id": "fb375f1f",
   "metadata": {},
   "outputs": [],
   "source": [
    "# convert the data type to float to enable computations later\n",
    "train['primary_diag'] = train['primary_diag'].astype(float)\n",
    "train['secondary_diag'] = train['secondary_diag'].astype(float)\n",
    "train['additional_diag'] = train['additional_diag'].astype(float)"
   ]
  },
  {
   "cell_type": "code",
   "execution_count": null,
   "id": "025cba80",
   "metadata": {},
   "outputs": [],
   "source": [
    "# recode ICD codes of diag1,diag2,diag3 between certain ranges to certain categories\n",
    "for index, row in train.iterrows():\n",
    "    if (row['primary_diag'] >= 390 and row['primary_diag'] < 460) or (np.floor(row['primary_diag']) == 785):\n",
    "        train.loc[index, 'primary_diag'] = 1\n",
    "    elif (row['primary_diag'] >= 460 and row['primary_diag'] < 520) or (np.floor(row['primary_diag']) == 786):\n",
    "        train.loc[index, 'primary_diag'] = 2\n",
    "    elif (row['primary_diag'] >= 520 and row['primary_diag'] < 580) or (np.floor(row['primary_diag']) == 787):\n",
    "        train.loc[index, 'primary_diag'] = 3\n",
    "    elif (np.floor(row['primary_diag']) == 250):\n",
    "        train.loc[index, 'primary_diag'] = 4\n",
    "    elif (row['primary_diag'] >= 800 and row['primary_diag'] < 1000):\n",
    "        train.loc[index, 'primary_diag'] = 5\n",
    "    elif (row['primary_diag'] >= 710 and row['primary_diag'] < 740):\n",
    "        train.loc[index, 'primary_diag'] = 6\n",
    "    elif (row['primary_diag'] >= 580 and row['primary_diag'] < 630) or (np.floor(row['primary_diag']) == 788):\n",
    "        train.loc[index, 'primary_diag'] = 7\n",
    "    elif (row['primary_diag'] >= 140 and row['primary_diag'] < 240):\n",
    "        train.loc[index, 'primary_diag'] = 8\n",
    "    else:\n",
    "        train.loc[index, 'primary_diag'] = 0"
   ]
  },
  {
   "cell_type": "code",
   "execution_count": null,
   "id": "86243a6d",
   "metadata": {},
   "outputs": [],
   "source": [
    "for index, row in train.iterrows():\n",
    "    if (row['secondary_diag'] >= 390 and row['secondary_diag'] < 460) or (np.floor(row['secondary_diag']) == 785):\n",
    "        train.loc[index, 'secondary_diag'] = 1\n",
    "    elif (row['secondary_diag'] >= 460 and row['secondary_diag'] < 520) or (np.floor(row['secondary_diag']) == 786):\n",
    "        train.loc[index, 'secondary_diag'] = 2\n",
    "    elif (row['secondary_diag'] >= 520 and row['secondary_diag'] < 580) or (np.floor(row['secondary_diag']) == 787):\n",
    "        train.loc[index, 'secondary_diag'] = 3\n",
    "    elif (np.floor(row['secondary_diag']) == 250):\n",
    "        train.loc[index, 'secondary_diag'] = 4\n",
    "    elif (row['secondary_diag'] >= 800 and row['secondary_diag'] < 1000):\n",
    "        train.loc[index, 'secondary_diag'] = 5\n",
    "    elif (row['secondary_diag'] >= 710 and row['secondary_diag'] < 740):\n",
    "        train.loc[index, 'secondary_diag'] = 6\n",
    "    elif (row['secondary_diag'] >= 580 and row['secondary_diag'] < 630) or (np.floor(row['secondary_diag']) == 788):\n",
    "        train.loc[index, 'secondary_diag'] = 7\n",
    "    elif (row['secondary_diag'] >= 140 and row['secondary_diag'] < 240):\n",
    "        train.loc[index, 'secondary_diag'] = 8\n",
    "    else:\n",
    "        train.loc[index, 'secondary_diag'] = 0"
   ]
  },
  {
   "cell_type": "code",
   "execution_count": null,
   "id": "b04c9af9",
   "metadata": {},
   "outputs": [],
   "source": [
    "for index, row in train.iterrows():\n",
    "    if (row['additional_diag'] >= 390 and row['additional_diag'] < 460) or (np.floor(row['additional_diag']) == 785):\n",
    "        train.loc[index, 'additional_diag'] = 1\n",
    "    elif (row['additional_diag'] >= 460 and row['additional_diag'] < 520) or (np.floor(row['additional_diag']) == 786):\n",
    "        train.loc[index, 'additional_diag'] = 2\n",
    "    elif (row['additional_diag'] >= 520 and row['additional_diag'] < 580) or (np.floor(row['additional_diag']) == 787):\n",
    "        train.loc[index, 'additional_diag'] = 3\n",
    "    elif (np.floor(row['additional_diag']) == 250):\n",
    "        train.loc[index, 'additional_diag'] = 4\n",
    "    elif (row['additional_diag'] >= 800 and row['additional_diag'] < 1000):\n",
    "        train.loc[index, 'additional_diag'] = 5\n",
    "    elif (row['additional_diag'] >= 710 and row['additional_diag'] < 740):\n",
    "        train.loc[index, 'additional_diag'] = 6\n",
    "    elif (row['additional_diag'] >= 580 and row['additional_diag'] < 630) or (np.floor(row['additional_diag']) == 788):\n",
    "        train.loc[index, 'additional_diag'] = 7\n",
    "    elif (row['additional_diag'] >= 140 and row['additional_diag'] < 240):\n",
    "        train.loc[index, 'additional_diag'] = 8\n",
    "    else:\n",
    "        train.loc[index, 'additional_diag'] = 0"
   ]
  },
  {
   "cell_type": "code",
   "execution_count": null,
   "id": "e1690b8e",
   "metadata": {},
   "outputs": [],
   "source": [
    "train[['diag_1','primary_diag']].head(15).T"
   ]
  },
  {
   "cell_type": "code",
   "execution_count": null,
   "id": "18ebdce8",
   "metadata": {},
   "outputs": [],
   "source": [
    "train[['diag_2','secondary_diag']].head(15).T"
   ]
  },
  {
   "cell_type": "code",
   "execution_count": null,
   "id": "aab2be9b",
   "metadata": {},
   "outputs": [],
   "source": [
    "train[['diag_3','additional_diag']].head(15).T"
   ]
  },
  {
   "cell_type": "markdown",
   "id": "e0d85f8d",
   "metadata": {},
   "source": [
    "### Recode admission_type_id and discharge_disposition_id and admission_source_id"
   ]
  },
  {
   "cell_type": "code",
   "execution_count": null,
   "id": "c91b0064",
   "metadata": {},
   "outputs": [],
   "source": [
    "train['admission_type_id'].value_counts()"
   ]
  },
  {
   "cell_type": "code",
   "execution_count": null,
   "id": "5f59f1ed",
   "metadata": {},
   "outputs": [],
   "source": [
    "# recode admission type (1-Emergency 5-Referral)\n",
    "train['admission_type_id'] = train['admission_type_id'].replace(2,1)\n",
    "train['admission_type_id'] = train['admission_type_id'].replace(7,1)\n",
    "train['admission_type_id'] = train['admission_type_id'].replace(6,5)\n",
    "train['admission_type_id'] = train['admission_type_id'].replace(8,5)"
   ]
  },
  {
   "cell_type": "code",
   "execution_count": null,
   "id": "fa6fe957",
   "metadata": {},
   "outputs": [],
   "source": [
    "train['discharge_disposition_id'].sort_values(ascending=False,inplace=False).value_counts()"
   ]
  },
  {
   "cell_type": "code",
   "execution_count": null,
   "id": "bd98fcb7",
   "metadata": {},
   "outputs": [],
   "source": [
    "# recode discharge_disposition_id type (1-discharged to home 2-other 3-? 4-?)\n",
    "train['discharge_disposition_id'] = train['discharge_disposition_id'].replace(6,1)\n",
    "train['discharge_disposition_id'] = train['discharge_disposition_id'].replace(8,1)\n",
    "train['discharge_disposition_id'] = train['discharge_disposition_id'].replace(9,1)\n",
    "train['discharge_disposition_id'] = train['discharge_disposition_id'].replace(13,1)\n",
    "train['discharge_disposition_id'] = train['discharge_disposition_id'].replace(3,2)\n",
    "train['discharge_disposition_id'] = train['discharge_disposition_id'].replace(4,2)\n",
    "train['discharge_disposition_id'] = train['discharge_disposition_id'].replace(5,2)\n",
    "train['discharge_disposition_id'] = train['discharge_disposition_id'].replace(14,2)\n",
    "train['discharge_disposition_id'] = train['discharge_disposition_id'].replace(22,2)\n",
    "train['discharge_disposition_id'] = train['discharge_disposition_id'].replace(23,2)\n",
    "train['discharge_disposition_id'] = train['discharge_disposition_id'].replace(24,2)\n",
    "train['discharge_disposition_id'] = train['discharge_disposition_id'].replace(12,10)\n",
    "train['discharge_disposition_id'] = train['discharge_disposition_id'].replace(15,10)\n",
    "train['discharge_disposition_id'] = train['discharge_disposition_id'].replace(16,10)\n",
    "train['discharge_disposition_id'] = train['discharge_disposition_id'].replace(17,10)\n",
    "train['discharge_disposition_id'] = train['discharge_disposition_id'].replace(25,18)\n",
    "train['discharge_disposition_id'] = train['discharge_disposition_id'].replace(26,18)"
   ]
  },
  {
   "cell_type": "code",
   "execution_count": null,
   "id": "a2cf32c9",
   "metadata": {},
   "outputs": [],
   "source": [
    "train['admission_source_id'].sort_values(ascending=False,inplace=False).value_counts()"
   ]
  },
  {
   "cell_type": "code",
   "execution_count": null,
   "id": "49960bbe",
   "metadata": {},
   "outputs": [],
   "source": [
    "# recode ad_mission_source_id type (1-emergency 4-home 9-transfer 11-other) \n",
    "train['admission_source_id'] = train['admission_source_id'].replace(2,1)\n",
    "train['admission_source_id'] = train['admission_source_id'].replace(3,1)\n",
    "train['admission_source_id'] = train['admission_source_id'].replace(5,4)\n",
    "train['admission_source_id'] = train['admission_source_id'].replace(6,4)\n",
    "train['admission_source_id'] = train['admission_source_id'].replace(10,4)\n",
    "train['admission_source_id'] = train['admission_source_id'].replace(22,4)\n",
    "train['admission_source_id'] = train['admission_source_id'].replace(25,4)\n",
    "train['admission_source_id'] = train['admission_source_id'].replace(7,9)\n",
    "train['admission_source_id'] = train['admission_source_id'].replace(17,9)\n",
    "train['admission_source_id'] = train['admission_source_id'].replace(20,9)\n",
    "train['admission_source_id'] = train['admission_source_id'].replace(21,9)\n",
    "train['admission_source_id'] = train['admission_source_id'].replace(13,11)\n",
    "train['admission_source_id'] = train['admission_source_id'].replace(14,11)"
   ]
  },
  {
   "cell_type": "markdown",
   "id": "c2301c73",
   "metadata": {},
   "source": [
    "### Create dummy Variables-change, gender and diabetesMed"
   ]
  },
  {
   "cell_type": "code",
   "execution_count": null,
   "id": "37440708",
   "metadata": {},
   "outputs": [],
   "source": [
    "# Recode change \n",
    "train['change'] = train['change'].replace('Ch', 1)\n",
    "train['change'] = train['change'].replace('No', 0)\n",
    "# Recode gender \n",
    "train['gender'] = train['gender'].replace('Male', 1)\n",
    "train['gender'] = train['gender'].replace('Female', 0)\n",
    "# Recode diabetesMed\n",
    "train['diabetesMed'] = train['diabetesMed'].replace('Yes', 1)\n",
    "train['diabetesMed'] = train['diabetesMed'].replace('No', 0)"
   ]
  },
  {
   "cell_type": "markdown",
   "id": "48027968",
   "metadata": {},
   "source": [
    "### Recode the outcome variable-Readmitted"
   ]
  },
  {
   "cell_type": "code",
   "execution_count": null,
   "id": "c6531177",
   "metadata": {},
   "outputs": [],
   "source": [
    "\"\"\"Since our interest here is the readmission rate that is less than 30 days??\"\"\"\n",
    "# calculate the outcome variable readmission\n",
    "train['readmitted'] = train['readmitted'].replace('>30', 0)\n",
    "train['readmitted'] = train['readmitted'].replace('<30', 1)\n",
    "train['readmitted'] = train['readmitted'].replace('NO', 0)"
   ]
  },
  {
   "cell_type": "markdown",
   "id": "7b18ccbd",
   "metadata": {},
   "source": [
    "### Recode the ordinal variable-Age"
   ]
  },
  {
   "cell_type": "code",
   "execution_count": null,
   "id": "1132fa62",
   "metadata": {},
   "outputs": [],
   "source": [
    "train['age'].sort_values(ascending=False).value_counts()"
   ]
  },
  {
   "cell_type": "code",
   "execution_count": null,
   "id": "501e4b8f",
   "metadata": {},
   "outputs": [],
   "source": [
    "#recode age using mean of each order \n",
    "\"\"\"recode it by means is the trade-off of uisng the continuous 1-10. Using the mean can maintain the interpretability of the age\"\"\"\n",
    "age_dict = {'[0-10)':5, '[10-20)':15, '[20-30)':25, '[30-40)':35, '[40-50)':45, '[50-60)':55, '[60-70)':65, '[70-80)':75, '[80-90)':85, '[90-100)':95}\n",
    "train['age'] = train.age.map(age_dict)\n",
    "train['age'] = train['age'].astype('int64')"
   ]
  },
  {
   "cell_type": "markdown",
   "id": "ed74baf3",
   "metadata": {},
   "source": [
    "### Recode the categorical variables: Race, A1Cresult,max_glu_serum"
   ]
  },
  {
   "cell_type": "code",
   "execution_count": null,
   "id": "589820e2",
   "metadata": {},
   "outputs": [],
   "source": [
    "train['race'].sort_values(ascending=False,inplace=False).value_counts()"
   ]
  },
  {
   "cell_type": "code",
   "execution_count": null,
   "id": "34ae31c8",
   "metadata": {},
   "outputs": [],
   "source": [
    "train['race'] = train['race'].replace('Caucasian', 1)\n",
    "train['race'] = train['race'].replace('AfricanAmerican', 2)\n",
    "train['race'] = train['race'].replace('Hispanic', 3)\n",
    "train['race'] = train['race'].replace('Asian', 4) \n",
    "train['race'] = train['race'].replace('Other', 0) "
   ]
  },
  {
   "cell_type": "code",
   "execution_count": null,
   "id": "43fb7f7a",
   "metadata": {},
   "outputs": [],
   "source": [
    "train['A1Cresult'].sort_values(ascending=False,inplace=False).value_counts()"
   ]
  },
  {
   "cell_type": "code",
   "execution_count": null,
   "id": "d1ee382d",
   "metadata": {},
   "outputs": [],
   "source": [
    "# recode A1Cresult \n",
    "train['A1Cresult'] = train['A1Cresult'].replace('>7', 1)\n",
    "train['A1Cresult'] = train['A1Cresult'].replace('>8', 1)\n",
    "train['A1Cresult'] = train['A1Cresult'].replace('Norm', 0)\n",
    "train['A1Cresult'] = train['A1Cresult'].replace('None', 99) "
   ]
  },
  {
   "cell_type": "code",
   "execution_count": null,
   "id": "da413828",
   "metadata": {},
   "outputs": [],
   "source": [
    "train['max_glu_serum'].sort_values(ascending=False,inplace=False).value_counts()"
   ]
  },
  {
   "cell_type": "code",
   "execution_count": null,
   "id": "e298e1a9",
   "metadata": {},
   "outputs": [],
   "source": [
    "# recode max_glu_serum using the similar approach\n",
    "train['max_glu_serum'] = train['max_glu_serum'].replace('>200', 1)\n",
    "train['max_glu_serum'] = train['max_glu_serum'].replace('>300', 1)\n",
    "train['max_glu_serum'] = train['max_glu_serum'].replace('Norm', 0)\n",
    "train['max_glu_serum'] = train['max_glu_serum'].replace('None', 99)"
   ]
  },
  {
   "cell_type": "code",
   "execution_count": null,
   "id": "80faab41",
   "metadata": {},
   "outputs": [],
   "source": [
    "train.to_csv('./modified_diabetes1205_beforeEDA.csv',index=None)"
   ]
  },
  {
   "cell_type": "markdown",
   "id": "436b6e5e",
   "metadata": {},
   "source": [
    "# Feature Engineering "
   ]
  },
  {
   "cell_type": "code",
   "execution_count": null,
   "id": "5f2ad505",
   "metadata": {},
   "outputs": [],
   "source": [
    "train=pd.read_csv('./modified_diabetes1205_beforeEDA.csv')"
   ]
  },
  {
   "cell_type": "code",
   "execution_count": null,
   "id": "84ddabc4",
   "metadata": {},
   "outputs": [],
   "source": [
    "train.head(5).T"
   ]
  },
  {
   "cell_type": "markdown",
   "id": "13cd0ae3",
   "metadata": {},
   "source": [
    "## Data type conversion"
   ]
  },
  {
   "cell_type": "code",
   "execution_count": null,
   "id": "9d02b64d",
   "metadata": {},
   "outputs": [],
   "source": [
    "train.dtypes"
   ]
  },
  {
   "cell_type": "code",
   "execution_count": null,
   "id": "16f5fbc5",
   "metadata": {},
   "outputs": [],
   "source": [
    "# convert data type of nominal features in dataframe to 'object' type\n",
    "i = ['race','gender','age', 'admission_type_id', 'discharge_disposition_id', 'admission_source_id',\\\n",
    "          'A1Cresult', 'metformin', 'repaglinide', 'nateglinide', 'chlorpropamide', 'glimepiride', 'acetohexamide', \\\n",
    "          'glipizide', 'glyburide', 'tolbutamide', 'pioglitazone', 'rosiglitazone', 'acarbose','miglitol', \\\n",
    "          'troglitazone', 'tolazamide', 'insulin', 'glyburide-metformin', 'glipizide-metformin', \\\n",
    "          'glimepiride-pioglitazone', 'metformin-rosiglitazone', 'metformin-pioglitazone', 'change', 'diabetesMed', \\\n",
    "          'A1Cresult', 'max_glu_serum', 'primary_diag', 'secondary_diag', 'additional_diag']\n",
    "\n",
    "train[i] = train[i].astype('object')"
   ]
  },
  {
   "cell_type": "code",
   "execution_count": null,
   "id": "9db1add2",
   "metadata": {},
   "outputs": [],
   "source": [
    "for i in train.columns:\n",
    "    if train[i].dtype==object:\n",
    "        d= train[i].value_counts()\n",
    "        print(pd.DataFrame(data=d))"
   ]
  },
  {
   "cell_type": "markdown",
   "id": "db544564",
   "metadata": {},
   "source": [
    "## Normality "
   ]
  },
  {
   "cell_type": "code",
   "execution_count": null,
   "id": "10b9c9c7",
   "metadata": {},
   "outputs": [],
   "source": [
    "# Get the list of the numerical variable  \n",
    "num_col = list(set(list(train._get_numeric_data().columns))- {'readmitted'})\n",
    "num_col"
   ]
  },
  {
   "cell_type": "code",
   "execution_count": null,
   "id": "62def57b",
   "metadata": {},
   "outputs": [],
   "source": [
    "# Plot the pair scatter plot to check the distribution \n",
    "sns.set()\n",
    "cols = ['num_med',\n",
    " 'number_emergency',\n",
    " 'num_lab_procedures',\n",
    " 'patient_service',\n",
    " 'time_in_hospital',\n",
    " 'med_change',\n",
    " 'num_procedures',\n",
    " 'number_diagnoses',\n",
    " 'number_outpatient',\n",
    " 'num_medications',\n",
    " 'number_inpatient']\n",
    "sns.pairplot(train[cols], size = 2.5)\n",
    "plt.show();"
   ]
  },
  {
   "cell_type": "code",
   "execution_count": null,
   "id": "8553899c",
   "metadata": {},
   "outputs": [],
   "source": [
    "# Plot the pair scatter plot to check the distribution \n",
    "sns.set()\n",
    "cols = ['num_med',\n",
    " 'number_emergency',\n",
    " 'num_lab_procedures',\n",
    " 'patient_service',\n",
    " 'time_in_hospital',\n",
    " 'med_change',\n",
    " 'num_procedures',\n",
    " 'number_diagnoses',\n",
    " 'number_outpatient',\n",
    " 'num_medications',\n",
    " 'number_inpatient']\n",
    "sns.pairplot(train[cols], size = 2.5)\n",
    "plt.show();"
   ]
  },
  {
   "cell_type": "markdown",
   "id": "16ce2aa0",
   "metadata": {},
   "source": [
    "### Log Transformation"
   ]
  },
  {
   "cell_type": "code",
   "execution_count": null,
   "id": "b4d40a29",
   "metadata": {},
   "outputs": [],
   "source": [
    "# log transforamtion for the skewed numerical variables \n",
    "key=['num_med',\n",
    " 'number_emergency',\n",
    " 'num_lab_procedures',\n",
    " 'patient_service',\n",
    " 'time_in_hospital',\n",
    " 'med_change',\n",
    " 'num_procedures',\n",
    " 'number_diagnoses',\n",
    " 'number_outpatient',\n",
    " 'num_medications',\n",
    " 'number_inpatient']\n",
    "for col in key:\n",
    "    if abs(train[col].skew())>=1:\n",
    "        train[col+\"_log\"]=np.log1p(train[col])\n",
    "        print([col+\"_log\"],train[col+\"_log\"].skew())"
   ]
  },
  {
   "cell_type": "markdown",
   "id": "d3e32df7",
   "metadata": {},
   "source": [
    "## Standarlization"
   ]
  },
  {
   "cell_type": "code",
   "execution_count": null,
   "id": "639ef9da",
   "metadata": {},
   "outputs": [],
   "source": [
    "def standardize(data):\n",
    "    return ((data - np.mean(data, axis = 0)) / np.std(data, axis = 0))\n",
    "# num_col is a list of all numeric features\n",
    "train[num_col] = standardize(train[num_col])"
   ]
  },
  {
   "cell_type": "markdown",
   "id": "2624af2c",
   "metadata": {},
   "source": [
    "## Correlation"
   ]
  },
  {
   "cell_type": "code",
   "execution_count": null,
   "id": "e7850cc2",
   "metadata": {},
   "outputs": [],
   "source": [
    "#Check the correlation between variables \n",
    "train.drop(train.columns[train.columns.str.contains('unnamed',case = False)],axis = 1,inplace=True)\n",
    "train_col =train.corr()\n",
    "train_col"
   ]
  },
  {
   "cell_type": "code",
   "execution_count": null,
   "id": "34cd56bc",
   "metadata": {},
   "outputs": [],
   "source": [
    "# Draw heatmap to plot the correlations\n",
    "\"\"\"metformin-rosiglitazone is with all NAs\"\"\"\n",
    "a = plt.subplots(figsize=(25, 15))\n",
    "a = sns.heatmap(train_col, vmax=.8, square=True)"
   ]
  },
  {
   "cell_type": "code",
   "execution_count": null,
   "id": "d9a4f160",
   "metadata": {},
   "outputs": [],
   "source": [
    "# find the top 15 correlated variables \n",
    "k = 15\n",
    "cols = train_col.nlargest(k,'readmitted')['readmitted'].index\n",
    "cm = np.corrcoef(train[cols].values.T)\n",
    "sns.set(font_scale=1.5)\n",
    "hm = plt.subplots(figsize=(25, 15))\n",
    "hm = sns.heatmap(cm, cbar=True, annot=True, square=True, fmt='.2f', annot_kws={'size': 10}, yticklabels=cols.values, xticklabels=cols.values)\n",
    "plt.show()"
   ]
  },
  {
   "cell_type": "code",
   "execution_count": null,
   "id": "8ab50448",
   "metadata": {},
   "outputs": [],
   "source": [
    "train.diabetesMed = train.diabetesMed.astype('int64')\n",
    "train.change = train.change.astype('int64')\n",
    "\n",
    "# convert data type of nominal features in dataframe to 'object' type for aggregating\n",
    "i = ['metformin', 'repaglinide', 'nateglinide', 'chlorpropamide', 'glimepiride', 'acetohexamide', \\\n",
    "          'glipizide', 'glyburide', 'tolbutamide', 'pioglitazone', 'rosiglitazone', 'acarbose','miglitol', \\\n",
    "          'troglitazone', 'tolazamide', 'insulin', 'glyburide-metformin', 'glipizide-metformin', \\\n",
    "          'glimepiride-pioglitazone', 'metformin-rosiglitazone', 'metformin-pioglitazone','A1Cresult']\n",
    "train[i] = train[i].astype('int64')\n",
    "\n",
    "train.dtypes"
   ]
  },
  {
   "cell_type": "markdown",
   "id": "102fc462",
   "metadata": {},
   "source": [
    "## Outlier"
   ]
  },
  {
   "cell_type": "code",
   "execution_count": null,
   "id": "4c17c4f2",
   "metadata": {},
   "outputs": [],
   "source": [
    "key=['num_med',\n",
    " 'number_emergency',\n",
    " 'num_lab_procedures',\n",
    " 'patient_service',\n",
    " 'time_in_hospital',\n",
    " 'med_change',\n",
    " 'num_procedures',\n",
    " 'number_diagnoses',\n",
    " 'number_outpatient',\n",
    " 'num_medications',\n",
    " 'number_inpatient']\n",
    "train = train[(np.abs(sp.stats.zscore(train[key])) < 3).all(axis=1)]"
   ]
  },
  {
   "cell_type": "code",
   "execution_count": null,
   "id": "81023fc9",
   "metadata": {},
   "outputs": [],
   "source": [
    "train.columns"
   ]
  },
  {
   "cell_type": "code",
   "execution_count": null,
   "id": "0c638395",
   "metadata": {},
   "outputs": [],
   "source": [
    "for i in train.columns:\n",
    "    df=train[i].value_counts()\n",
    "    print(df)"
   ]
  },
  {
   "cell_type": "code",
   "execution_count": null,
   "id": "0a0df244",
   "metadata": {},
   "outputs": [],
   "source": [
    "train['primary_diag'] = train['primary_diag'].astype('int')\n",
    "train_v = pd.get_dummies(train, columns=['race', 'gender', 'admission_type_id', 'discharge_disposition_id',\n",
    "                                      'admission_source_id', 'max_glu_serum', 'A1Cresult', 'primary_diag'], drop_first = True)"
   ]
  },
  {
   "cell_type": "code",
   "execution_count": null,
   "id": "b67c8ea1",
   "metadata": {},
   "outputs": [],
   "source": [
    "nom_cols = ['race', 'gender', 'admission_type_id', 'discharge_disposition_id', 'admission_source_id', 'max_glu_serum', 'A1Cresult', 'primary_diag' ]"
   ]
  },
  {
   "cell_type": "code",
   "execution_count": null,
   "id": "4d6b7881",
   "metadata": {},
   "outputs": [],
   "source": [
    "num_cols = list(set(list(train._get_numeric_data().columns))- {'readmitted', 'change'})\n",
    "num_cols"
   ]
  },
  {
   "cell_type": "code",
   "execution_count": null,
   "id": "e6f1d2ca",
   "metadata": {},
   "outputs": [],
   "source": [
    "# Append all columns with dummy variables \n",
    "nom_cols_new = []\n",
    "for i in nom_cols:\n",
    "    for j in train_v.columns:\n",
    "        if i in j:\n",
    "            nom_cols_new.append(j)"
   ]
  },
  {
   "cell_type": "code",
   "execution_count": null,
   "id": "1456f3fc",
   "metadata": {},
   "outputs": [],
   "source": [
    "nom_cols_new"
   ]
  },
  {
   "cell_type": "code",
   "execution_count": null,
   "id": "00e51612",
   "metadata": {},
   "outputs": [],
   "source": [
    "train_v.columns"
   ]
  },
  {
   "cell_type": "code",
   "execution_count": null,
   "id": "cd751098",
   "metadata": {},
   "outputs": [],
   "source": [
    "# Create a feature set\n",
    "feature_set= ['race_1','race_2','race_3','race_4','gender_1','age','admission_type_id_3',\n",
    "       'admission_type_id_4','admission_type_id_5','discharge_disposition_id_2', \n",
    "'discharge_disposition_id_7','discharge_disposition_id_10','discharge_disposition_id_18','discharge_disposition_id_19',\n",
    "        'discharge_disposition_id_20','discharge_disposition_id_27','discharge_disposition_id_28','admission_source_id_4', 'admission_source_id_8',\n",
    "        'admission_source_id_9','admission_source_id_11','num_lab_procedures','number_diagnoses', 'max_glu_serum_1', 'max_glu_serum_99', 'A1Cresult_1', 'A1Cresult_99', \n",
    "       'metformin', 'repaglinide', 'nateglinide', 'chlorpropamide',\n",
    "       'glimepiride', 'acetohexamide', 'glipizide', 'glyburide', 'tolbutamide',\n",
    "       'pioglitazone', 'rosiglitazone', 'acarbose', 'miglitol', 'troglitazone',\n",
    "       'tolazamide', 'insulin', 'glyburide-metformin', 'glipizide-metformin',\n",
    "       'glimepiride-pioglitazone', 'metformin-rosiglitazone',\n",
    "       'metformin-pioglitazone', 'change', 'diabetesMed', \n",
    "        'num_med', 'primary_diag_1','primary_diag_2','primary_diag_3','primary_diag_4','primary_diag_5','primary_diag_6','primary_diag_7','primary_diag_8',\n",
    "        'number_emergency_log','patient_service_log', 'time_in_hospital_log', 'med_change_log',\n",
    "       'num_procedures_log', 'number_outpatient_log', 'num_medications_log',\n",
    "       'number_inpatient_log']"
   ]
  },
  {
   "cell_type": "code",
   "execution_count": null,
   "id": "1f8b0438",
   "metadata": {},
   "outputs": [],
   "source": [
    "train_v.to_csv('./modified_diabetes1205_V2.csv',index=None)"
   ]
  },
  {
   "cell_type": "code",
   "execution_count": null,
   "id": "2264cdd0",
   "metadata": {},
   "outputs": [],
   "source": [
    "train_v = pd.read_csv('./modified_diabetes1205_V2.csv')"
   ]
  },
  {
   "cell_type": "code",
   "execution_count": null,
   "id": "21bf30e5",
   "metadata": {},
   "outputs": [],
   "source": [
    "train_v.columns"
   ]
  },
  {
   "cell_type": "markdown",
   "id": "0887d57a",
   "metadata": {},
   "source": [
    "# Modeling "
   ]
  },
  {
   "cell_type": "code",
   "execution_count": null,
   "id": "8bcbf622",
   "metadata": {},
   "outputs": [],
   "source": [
    "train_input = train_v[feature_set]\n",
    "train_output = train_v['readmitted']"
   ]
  },
  {
   "cell_type": "code",
   "execution_count": null,
   "id": "d8d864b1",
   "metadata": {},
   "outputs": [],
   "source": [
    "# Check the class for the outcome variable \n",
    "target_count=train_v['readmitted'].value_counts()\n",
    "print('Class 0:', target_count[0])\n",
    "print('Class 1:', target_count[1])\n",
    "print('Proportion:', round(target_count[0] / target_count[1], 2), ': 1')\n",
    "\n",
    "target_count.plot(kind='bar', title='Count (target)')"
   ]
  },
  {
   "cell_type": "markdown",
   "id": "088b8225",
   "metadata": {},
   "source": [
    "## Logistic Regression-Benchmark  "
   ]
  },
  {
   "cell_type": "code",
   "execution_count": null,
   "id": "f274aadd",
   "metadata": {},
   "outputs": [],
   "source": [
    "from collections import Counter\n",
    "\n",
    "from sklearn.ensemble import RandomForestClassifier, GradientBoostingClassifier\n",
    "from sklearn.linear_model import LogisticRegression\n",
    "from sklearn.neighbors import KNeighborsClassifier\n",
    "from sklearn.tree import DecisionTreeClassifier\n",
    "#from xgboost.sklearn import XGBClassifier \n",
    "from sklearn.model_selection import GridSearchCV, cross_val_score, StratifiedKFold, learning_curve\n",
    "from sklearn.model_selection import train_test_split\n",
    "from sklearn import model_selection\n",
    "from sklearn.metrics import accuracy_score, precision_score, recall_score, roc_auc_score\n",
    "\n",
    "sns.set(style='white', context='notebook', palette='deep')"
   ]
  },
  {
   "cell_type": "code",
   "execution_count": null,
   "id": "3a61a3fb",
   "metadata": {},
   "outputs": [],
   "source": [
    "# Split the training and testing dataset \n",
    "x_train, x_test, y_train, y_test= model_selection.train_test_split(train_input, train_output, random_state = 0, test_size=0.1)"
   ]
  },
  {
   "cell_type": "code",
   "execution_count": null,
   "id": "4989d7dd",
   "metadata": {},
   "outputs": [],
   "source": [
    "import numpy as np\n",
    "import pandas as pd\n",
    "\n",
    "target_count = train_output.value_counts()\n",
    "print('Class 0:', target_count[0])\n",
    "print('Class 1:', target_count[1])\n",
    "print('Proportion:', round(target_count[0] / target_count[1], 2), ': 1')\n",
    "\n",
    "target_count.plot(kind='bar', title='Count (target)');"
   ]
  },
  {
   "cell_type": "code",
   "execution_count": null,
   "id": "4f12973d",
   "metadata": {},
   "outputs": [],
   "source": [
    "y_pred = LogR.predict(x_test)"
   ]
  },
  {
   "cell_type": "code",
   "execution_count": null,
   "id": "1cf5906e",
   "metadata": {},
   "outputs": [],
   "source": [
    "from sklearn.metrics import accuracy_score, precision_score, recall_score\n",
    "print(\"Accuracy is {0:.2f}\".format(accuracy_score(y_test, y_pred)))\n",
    "print(\"Precision is {0:.2f}\".format(precision_score(y_test, y_pred)))\n",
    "print(\"Recall is {0:.2f}\".format(recall_score(y_test, y_pred)))"
   ]
  },
  {
   "cell_type": "code",
   "execution_count": null,
   "id": "9f709635",
   "metadata": {},
   "outputs": [],
   "source": [
    "pd.crosstab(pd.Series(y_test, name = 'Actual'), pd.Series(y_pred, name = 'Predict'), margins = True)"
   ]
  },
  {
   "cell_type": "code",
   "execution_count": null,
   "id": "cbd44961",
   "metadata": {},
   "outputs": [],
   "source": [
    "# Confusion Matrix and Class imbalance cehcking \n",
    "from sklearn.metrics import confusion_matrix\n",
    "cfm = confusion_matrix(y_test, y_pred)\n",
    "print(cfm)\n",
    "labels = ['Class 0', 'Class 1']\n",
    "fig = plt.figure()\n",
    "ax = fig.add_subplot(111)\n",
    "cax = ax.matshow(cfm, cmap=plt.cm.Reds)\n",
    "fig.colorbar(cax)\n",
    "ax.set_xticklabels([''] + labels)\n",
    "ax.set_yticklabels([''] + labels)\n",
    "plt.xlabel('Predicted')\n",
    "plt.ylabel('Expected')\n",
    "plt.show()"
   ]
  },
  {
   "cell_type": "markdown",
   "id": "869a1d7b",
   "metadata": {},
   "source": [
    "## Class Imbalance "
   ]
  },
  {
   "cell_type": "code",
   "execution_count": null,
   "id": "14f9f1ad",
   "metadata": {},
   "outputs": [],
   "source": [
    "# Class Imbalance Processing: Using re-sampling method\n",
    "from imblearn.over_sampling import SMOTE\n",
    "from collections import Counter\n",
    "print('Original dataset shape {}'.format(Counter(train_output)))\n",
    "sm = SMOTE(random_state=20)\n",
    "train_input_new, train_output_new = sm.fit_sample(train_input, train_output)\n",
    "print('New dataset shape {}'.format(Counter(train_output_new)))"
   ]
  },
  {
   "cell_type": "code",
   "execution_count": null,
   "id": "a26bd89e",
   "metadata": {},
   "outputs": [],
   "source": [
    "train_input_new = pd.DataFrame(train_input_new, columns = list(train_input.columns))"
   ]
  },
  {
   "cell_type": "code",
   "execution_count": null,
   "id": "7c91b72b",
   "metadata": {},
   "outputs": [],
   "source": [
    "pd.concat([pd.DataFrame(train_input_new), pd.DataFrame(train_output_new)],axis=1).to_csv('./smote_data.csv',header=None)"
   ]
  },
  {
   "cell_type": "code",
   "execution_count": null,
   "id": "ce3e458f",
   "metadata": {},
   "outputs": [],
   "source": [
    "# Again,split the training and testing dataset \n",
    "x_train_new, x_test_new, y_train_new, y_test_new= model_selection.train_test_split(train_input_new, train_output_new, random_state = 0, test_size=0.1)"
   ]
  },
  {
   "cell_type": "markdown",
   "id": "606ffdf1",
   "metadata": {},
   "source": [
    "## Logistic Regression_2"
   ]
  },
  {
   "cell_type": "code",
   "execution_count": null,
   "id": "751dbce7",
   "metadata": {},
   "outputs": [],
   "source": [
    "# Run Logistic Regression Again \n",
    "LogR = LogisticRegression(fit_intercept=True, penalty='l1',random_state = 0)\n",
    "print(\"Cross Validation Score: {:.2%}\".format(np.mean(cross_val_score(LogR, x_train_new, y_train_new, cv=10))))\n",
    "LogR.fit(x_train_new, y_train_new)\n",
    "print(\"Test Set score: {:.2%}\".format(LogR.score(x_test_new, y_test_new)))"
   ]
  },
  {
   "cell_type": "code",
   "execution_count": null,
   "id": "a21e7ff8",
   "metadata": {},
   "outputs": [],
   "source": [
    "y_test_predict = LogR.predict(x_test_new)"
   ]
  },
  {
   "cell_type": "code",
   "execution_count": null,
   "id": "f3e73431",
   "metadata": {},
   "outputs": [],
   "source": [
    "# Confusion Matrix and Class imbalance cehcking \n",
    "from sklearn.metrics import confusion_matrix\n",
    "cfm = confusion_matrix(y_test_new, y_test_predict)\n",
    "print(cfm)\n",
    "labels = ['Class 0', 'Class 1']\n",
    "fig = plt.figure()\n",
    "ax = fig.add_subplot(111)\n",
    "cax = ax.matshow(cfm, cmap=plt.cm.Reds)\n",
    "fig.colorbar(cax)\n",
    "ax.set_xticklabels([''] + labels)\n",
    "ax.set_yticklabels([''] + labels)\n",
    "plt.xlabel('Predicted')\n",
    "plt.ylabel('Expected')\n",
    "plt.show()"
   ]
  },
  {
   "cell_type": "code",
   "execution_count": null,
   "id": "7086f210",
   "metadata": {},
   "outputs": [],
   "source": [
    "pd.crosstab(pd.Series(y_test_new, name = 'Actual'), pd.Series(y_test_predict, name = 'Predict'), margins = True)"
   ]
  },
  {
   "cell_type": "code",
   "execution_count": null,
   "id": "e3ddc588",
   "metadata": {},
   "outputs": [],
   "source": [
    "from sklearn.metrics import accuracy_score, precision_score, recall_score, roc_auc_score\n",
    "print(\"Accuracy is {0:.2f}\".format(accuracy_score(y_test_new, y_test_predict)))\n",
    "print(\"Precision is {0:.2f}\".format(precision_score(y_test_new, y_test_predict)))\n",
    "print(\"Recall is {0:.2f}\".format(recall_score(y_test_new, y_test_predict)))\n",
    "print(\"AUC is {0:.2f}\".format(roc_auc_score(y_test_new, y_test_predict)))\n",
    "\n",
    "accuracy_logreg = accuracy_score(y_test_new, y_test_predict)\n",
    "precision_logreg = precision_score(y_test_new, y_test_predict)\n",
    "recall_logreg = recall_score(y_test_new, y_test_predict)\n",
    "auc_logreg = roc_auc_score(y_test_new, y_test_predict)"
   ]
  },
  {
   "cell_type": "markdown",
   "id": "cfc1b451",
   "metadata": {},
   "source": [
    "## Decision Tree"
   ]
  },
  {
   "cell_type": "code",
   "execution_count": null,
   "id": "cb67e5d1",
   "metadata": {},
   "outputs": [],
   "source": [
    "feature_set_dec = ['age', 'time_in_hospital', 'num_procedures', 'num_medications', 'number_outpatient_log', \n",
    "                 'number_emergency_log', 'number_inpatient_log', 'number_diagnoses', 'metformin', \n",
    "                 'repaglinide', 'nateglinide', 'chlorpropamide', 'glimepiride', 'glipizide', \n",
    "                 'glyburide', 'pioglitazone', 'rosiglitazone', 'acarbose', \n",
    "                 'tolazamide', 'insulin', 'glyburide-metformin',\n",
    "                 'race_1', 'race_2', 'race_3', \n",
    "                 'race_4', 'gender_1', \n",
    "                 'admission_source_id_4', 'admission_source_id_8', 'admission_source_id_9','admission_source_id_11', \n",
    "                 'discharge_disposition_id_2', 'discharge_disposition_id_7', \n",
    "                 'discharge_disposition_id_10', 'discharge_disposition_id_18', \n",
    "                 'max_glu_serum_1', 'max_glu_serum_99', 'A1Cresult_1', 'A1Cresult_99', \n",
    "                 'primary_diag_1','primary_diag_2','primary_diag_3','primary_diag_4','primary_diag_5','primary_diag_6','primary_diag_7','primary_diag_8']"
   ]
  },
  {
   "cell_type": "code",
   "execution_count": null,
   "id": "0ff248e0",
   "metadata": {},
   "outputs": [],
   "source": [
    "train_input = train_v[feature_set_dec]\n",
    "train_output = train_v['readmitted']\n",
    "train_v['readmitted'].value_counts()"
   ]
  },
  {
   "cell_type": "code",
   "execution_count": null,
   "id": "58ad4c00",
   "metadata": {},
   "outputs": [],
   "source": [
    "from imblearn.over_sampling import SMOTE\n",
    "from collections import Counter\n",
    "print('Original dataset shape {}'.format(Counter(train_output)))\n",
    "smt = SMOTE(random_state=20)\n",
    "train_input_new, train_output_new = smt.fit_sample(train_input, train_output)\n",
    "print('New dataset shape {}'.format(Counter(train_output_new)))\n",
    "train_input_new = pd.DataFrame(train_input_new, columns = list(train_input.columns))\n",
    "x_train_new, x_test_new, y_train_new, y_test_new = train_test_split(train_input_new, train_output_new, test_size=0.20, random_state=0)"
   ]
  },
  {
   "cell_type": "code",
   "execution_count": null,
   "id": "be32558a",
   "metadata": {},
   "outputs": [],
   "source": [
    "from sklearn.tree import DecisionTreeClassifier\n",
    "dte = DecisionTreeClassifier(max_depth=28, criterion = \"entropy\", min_samples_split=10)\n",
    "print(\"Cross Validation score: {:.2%}\".format(np.mean(cross_val_score(dte, x_train_new, y_train_new, cv=10))))\n",
    "dte.fit(x_train_new, y_train_new)\n",
    "print(\"Dev Set score: {:.2%}\".format(dte.score(x_test_new, y_test_new)))"
   ]
  },
  {
   "cell_type": "code",
   "execution_count": null,
   "id": "efcaa613",
   "metadata": {},
   "outputs": [],
   "source": [
    "y_test_predict = dte.predict(x_test_new)"
   ]
  },
  {
   "cell_type": "code",
   "execution_count": null,
   "id": "6cdeabd4",
   "metadata": {},
   "outputs": [],
   "source": [
    "pd.crosstab(pd.Series(y_test_new, name = 'Actual'), pd.Series(y_test_predict, name = 'Predict'), margins = True)"
   ]
  },
  {
   "cell_type": "code",
   "execution_count": null,
   "id": "f93c8b1f",
   "metadata": {},
   "outputs": [],
   "source": [
    "# Calculate Accuracy, precision, reacall and AUC with classificaiton-entropy\n",
    "from sklearn.metrics import accuracy_score, precision_score, recall_score, roc_auc_score\n",
    "print(\"Accuracy is {0:.2f}\".format(accuracy_score(y_test_new, y_test_predict)))\n",
    "print(\"Precision is {0:.2f}\".format(precision_score(y_test_new, y_test_predict)))\n",
    "print(\"Recall is {0:.2f}\".format(recall_score(y_test_new, y_test_predict)))\n",
    "print(\"AUC is {0:.2f}\".format(roc_auc_score(y_test_new, y_test_predict)))\n",
    "\n",
    "accuracy_dte = accuracy_score(y_test_new, y_test_predict)\n",
    "precision_dte = precision_score(y_test_new, y_test_predict)\n",
    "recall_dte = recall_score(y_test_new, y_test_predict)\n",
    "auc_dte = roc_auc_score(y_test_new, y_test_predict)"
   ]
  },
  {
   "cell_type": "markdown",
   "id": "b9ff4780",
   "metadata": {},
   "source": [
    "### Decision Tree-Gini "
   ]
  },
  {
   "cell_type": "code",
   "execution_count": null,
   "id": "65b7f8c1",
   "metadata": {},
   "outputs": [],
   "source": [
    "# Calculate\n",
    "from sklearn.tree import DecisionTreeClassifier\n",
    "dte = DecisionTreeClassifier(max_depth=28, criterion = \"gini\", min_samples_split=10)\n",
    "print(\"Cross Validation score: {:.2%}\".format(np.mean(cross_val_score(dte, x_train_new, y_train_new, cv=10))))\n",
    "dte.fit(x_train_new, y_train_new)\n",
    "print(\"Dev Set score: {:.2%}\".format(dte.score(x_test_new, y_test_new)))"
   ]
  },
  {
   "cell_type": "code",
   "execution_count": null,
   "id": "69d1af07",
   "metadata": {},
   "outputs": [],
   "source": [
    "y_test_predict = dte.predict(x_test_new)"
   ]
  },
  {
   "cell_type": "code",
   "execution_count": null,
   "id": "5f71cfec",
   "metadata": {},
   "outputs": [],
   "source": [
    "pd.crosstab(pd.Series(y_test_new, name = 'Actual'), pd.Series(y_test_predict, name = 'Predict'), margins = True)"
   ]
  },
  {
   "cell_type": "code",
   "execution_count": null,
   "id": "79a201f2",
   "metadata": {},
   "outputs": [],
   "source": [
    "from sklearn.metrics import accuracy_score, precision_score, recall_score, roc_auc_score\n",
    "print(\"Accuracy is {0:.2f}\".format(accuracy_score(y_test_new, y_test_predict)))\n",
    "print(\"Precision is {0:.2f}\".format(precision_score(y_test_new, y_test_predict)))\n",
    "print(\"Recall is {0:.2f}\".format(recall_score(y_test_new, y_test_predict)))\n",
    "print(\"AUC is {0:.2f}\".format(roc_auc_score(y_test_new, y_test_predict)))\n",
    "\n",
    "accuracy_dtg = accuracy_score(y_test_new, y_test_predict)\n",
    "precision_dtg = precision_score(y_test_new, y_test_predict)\n",
    "recall_dtg = recall_score(y_test_new, y_test_predict)\n",
    "auc_dtg = roc_auc_score(y_test_new, y_test_predict)"
   ]
  },
  {
   "cell_type": "code",
   "execution_count": null,
   "id": "efd92d20",
   "metadata": {},
   "outputs": [],
   "source": [
    "# Create list of top most features based on importance\n",
    "feature_names = x_train_new.columns\n",
    "feature_imports = dte.feature_importances_\n",
    "most_imp_features = pd.DataFrame([f for f in zip(feature_names,feature_imports)], columns=[\"Feature\", \"Importance\"]).nlargest(10, \"Importance\")\n",
    "most_imp_features.sort_values(by=\"Importance\", inplace=True)\n",
    "print(most_imp_features)\n",
    "plt.figure(figsize=(10,6))\n",
    "plt.barh(range(len(most_imp_features)), most_imp_features.Importance, align='center', alpha=0.8)\n",
    "plt.yticks(range(len(most_imp_features)), most_imp_features.Feature, fontsize=14)\n",
    "plt.xlabel('Importance')\n",
    "plt.title('Most important features - Decision Tree')\n",
    "plt.show()"
   ]
  },
  {
   "cell_type": "code",
   "execution_count": null,
   "id": "2929dc61",
   "metadata": {},
   "outputs": [],
   "source": [
    "import graphviz\n",
    "from IPython.display import Image\n",
    "import pydotplus\n",
    "from sklearn import tree\n",
    "dot_dt_q2 = tree.export_graphviz(dte, out_file=\"dt_q2.dot\", feature_names=x_train_new.columns, max_depth=2,\n",
    "                                 class_names=[\"No\",\"Readm\"], filled=True, rounded=True, special_characters=True)\n",
    "graph_dt_q2 = pydotplus.graph_from_dot_file('dt_q2.dot')\n",
    "Image(graph_dt_q2.create_png())"
   ]
  },
  {
   "cell_type": "markdown",
   "id": "7d815a66",
   "metadata": {},
   "source": [
    "## Random Forest "
   ]
  },
  {
   "cell_type": "code",
   "execution_count": null,
   "id": "3dd65123",
   "metadata": {},
   "outputs": [],
   "source": [
    "from sklearn.ensemble import RandomForestClassifier\n",
    "forrest = RandomForestClassifier(n_estimators = 10, max_depth=25, criterion = \"entropy\", min_samples_split=10)\n",
    "print(\"Cross Validation score: {:.2%}\".format(np.mean(cross_val_score(forrest, x_train_new, y_train_new, cv=10))))\n",
    "forrest.fit(x_train_new, y_train_new)\n",
    "print(\"Dev Set score: {:.2%}\".format(forrest.score(x_test_new, y_test_new)))"
   ]
  },
  {
   "cell_type": "code",
   "execution_count": null,
   "id": "d436167c",
   "metadata": {},
   "outputs": [],
   "source": [
    "y_test_predict = forrest.predict(x_test_new)\n",
    "pd.crosstab(pd.Series(y_test_new, name = 'Actual'), pd.Series(y_test_predict, name = 'Predict'), margins = True)"
   ]
  },
  {
   "cell_type": "code",
   "execution_count": null,
   "id": "3a8b35e5",
   "metadata": {},
   "outputs": [],
   "source": [
    "from sklearn.metrics import accuracy_score, precision_score, recall_score, roc_auc_score\n",
    "print(\"Accuracy is {0:.2f}\".format(accuracy_score(y_test_new, y_test_predict)))\n",
    "print(\"Precision is {0:.2f}\".format(precision_score(y_test_new, y_test_predict)))\n",
    "print(\"Recall is {0:.2f}\".format(recall_score(y_test_new, y_test_predict)))\n",
    "print(\"AUC is {0:.2f}\".format(roc_auc_score(y_test_new, y_test_predict)))\n",
    "\n",
    "accuracy_forreste = accuracy_score(y_test_new, y_test_predict)\n",
    "precision_forreste = precision_score(y_test_new, y_test_predict)\n",
    "recall_forreste = recall_score(y_test_new, y_test_predict)\n",
    "auc_forreste = roc_auc_score(y_test_new, y_test_predict)"
   ]
  },
  {
   "cell_type": "code",
   "execution_count": null,
   "id": "130189a5",
   "metadata": {},
   "outputs": [],
   "source": [
    "forrest = RandomForestClassifier(n_estimators = 10, max_depth=25, criterion = \"gini\", min_samples_split=10)\n",
    "print(\"Cross Validation score: {:.2%}\".format(np.mean(cross_val_score(forrest, x_train_new, y_train_new, cv=10))))\n",
    "forrest.fit(x_train_new, y_train_new)\n",
    "print(\"Dev Set score: {:.2%}\".format(forrest.score(x_test_new, y_test_new)))"
   ]
  },
  {
   "cell_type": "code",
   "execution_count": null,
   "id": "3c537d3c",
   "metadata": {},
   "outputs": [],
   "source": [
    "y_test_predict = forrest.predict(x_test_new)\n",
    "pd.crosstab(pd.Series(y_test_new, name = 'Actual'), pd.Series(y_test_predict, name = 'Predict'), margins = True)"
   ]
  },
  {
   "cell_type": "code",
   "execution_count": null,
   "id": "ef2d40a9",
   "metadata": {},
   "outputs": [],
   "source": [
    "from sklearn.metrics import accuracy_score, precision_score, recall_score, roc_auc_score\n",
    "print(\"Accuracy is {0:.2f}\".format(accuracy_score(y_test_new, y_test_predict)))\n",
    "print(\"Precision is {0:.2f}\".format(precision_score(y_test_new, y_test_predict)))\n",
    "print(\"Recall is {0:.2f}\".format(recall_score(y_test_new, y_test_predict)))\n",
    "print(\"AUC is {0:.2f}\".format(roc_auc_score(y_test_new, y_test_predict)))\n",
    "\n",
    "accuracy_forrestg = accuracy_score(y_test_new, y_test_predict)\n",
    "precision_forrestg = precision_score(y_test_new, y_test_predict)\n",
    "recall_forrestg = recall_score(y_test_new, y_test_predict)\n",
    "auc_forrestg = roc_auc_score(y_test_new, y_test_predict)"
   ]
  },
  {
   "cell_type": "code",
   "execution_count": null,
   "id": "bf4a0b51",
   "metadata": {},
   "outputs": [],
   "source": [
    "# Create list of top most features based on importance\n",
    "feature_names = x_train_new.columns\n",
    "feature_imports = forrest.feature_importances_\n",
    "most_imp_features = pd.DataFrame([f for f in zip(feature_names,feature_imports)], columns=[\"Feature\", \"Importance\"]).nlargest(10, \"Importance\")\n",
    "most_imp_features.sort_values(by=\"Importance\", inplace=True)\n",
    "plt.figure(figsize=(10,6))\n",
    "plt.barh(range(len(most_imp_features)), most_imp_features.Importance, align='center', alpha=0.8)\n",
    "plt.yticks(range(len(most_imp_features)), most_imp_features.Feature, fontsize=14)\n",
    "plt.xlabel('Importance')\n",
    "plt.title('Most important features - Random Forest (gini)')\n",
    "plt.show()"
   ]
  },
  {
   "cell_type": "markdown",
   "id": "0b3e81fd",
   "metadata": {},
   "source": [
    "# Modeling Improvement "
   ]
  },
  {
   "cell_type": "markdown",
   "id": "5455bf90",
   "metadata": {},
   "source": [
    "## XGBOOST-Tuning "
   ]
  },
  {
   "cell_type": "code",
   "execution_count": null,
   "id": "244a5325",
   "metadata": {},
   "outputs": [],
   "source": [
    "import pandas as pd\n",
    "import xgboost as xgb\n",
    "import operator"
   ]
  },
  {
   "cell_type": "code",
   "execution_count": null,
   "id": "ddf4c14c",
   "metadata": {},
   "outputs": [],
   "source": [
    "def result (y_test_new, y_test_predict):\n",
    "    print(\"Accuracy is {0:.2f}\".format(accuracy_score(y_test_new, y_test_predict)))\n",
    "    print(\"Precision is {0:.2f}\".format(precision_score(y_test_new, y_test_predict)))\n",
    "    print(\"Recall is {0:.2f}\".format(recall_score(y_test_new, y_test_predict)))\n",
    "    print(\"AUC is {0:.2f}\".format(roc_auc_score(y_test_new, y_test_predict)))"
   ]
  },
  {
   "cell_type": "code",
   "execution_count": null,
   "id": "d47c0953",
   "metadata": {},
   "outputs": [],
   "source": [
    "for max_depth in [3,4,5,6,7,8,9]:\n",
    "    xgb_params = {'booster':'gbtree','objective': 'binary:logistic', \"eta\": 0.2, \\\n",
    "                  \"max_depth\": max_depth,\"colsample_bytree\":0.7, 'silent':1}\n",
    "    num_rounds = 20000\n",
    "\n",
    "    dtrain = xgb.DMatrix(x_train_new, label=y_train_new)\n",
    "    dtest= xgb.DMatrix(x_test_new, label=y_test_new)\n",
    "    evallist = [(dtrain, 'train'), (dtest, 'test')]\n",
    "    gbm = xgb.train(xgb_params.items(), dtrain, num_rounds, evals=evallist,verbose_eval=100,early_stopping_rounds=100)\n",
    "    y_predict = gbm.predict(xgb.DMatrix(x_test_new))\n",
    "    result(y_test_new,np.round(y_predict))"
   ]
  },
  {
   "cell_type": "code",
   "execution_count": null,
   "id": "ea84bc7a",
   "metadata": {},
   "outputs": [],
   "source": [
    "for colsample_bytree in [0.6, 0.7, 0.8, 0.9, 1]:\n",
    "    xgb_params = {'booster':'gbtree','objective': 'binary:logistic', \"eta\": 0.2, \\\n",
    "                  \"max_depth\": 8,\"colsample_bytree\":colsample_bytree, 'silent':1}\n",
    "    num_rounds = 20000\n",
    "\n",
    "    dtrain = xgb.DMatrix(x_train_new, label=y_train_new)\n",
    "    dtest= xgb.DMatrix(x_test_new, label=y_test_new)\n",
    "    evallist = [(dtrain, 'train'), (dtest, 'test')]\n",
    "    gbm = xgb.train(xgb_params.items(), dtrain, num_rounds, evals=evallist,verbose_eval=100,early_stopping_rounds=100)\n",
    "    y_predict = gbm.predict(xgb.DMatrix(x_test_new))\n",
    "    result(y_test_new,np.round(y_predict))"
   ]
  },
  {
   "cell_type": "code",
   "execution_count": null,
   "id": "cb761b8c",
   "metadata": {},
   "outputs": [],
   "source": [
    "for eta in [0.01, 0.02, 0.05]: \n",
    "    xgb_params = {'booster':'gbtree','objective': 'binary:logistic', \"eta\": eta, \\\n",
    "                  \"max_depth\": 8,\"colsample_bytree\":0.9,  'silent':1}\n",
    "    num_rounds = 20000\n",
    "\n",
    "    dtrain = xgb.DMatrix(x_train_new, label=y_train_new)\n",
    "    dtest= xgb.DMatrix(x_test_new, label=y_test_new)\n",
    "    evallist = [(dtrain, 'train'), (dtest, 'test')]\n",
    "    gbm = xgb.train(xgb_params.items(), dtrain, num_rounds, evals=evallist,verbose_eval=100,early_stopping_rounds=100)\n",
    "    y_predict = gbm.predict(xgb.DMatrix(x_test_new))\n",
    "    result(y_test_new,np.round(y_predict))"
   ]
  },
  {
   "cell_type": "code",
   "execution_count": null,
   "id": "47f704b3",
   "metadata": {},
   "outputs": [],
   "source": [
    "# Using XGBoosting to find the strongest predictors \n",
    "from xgboost import plot_importance\n",
    "import matplotlib.pyplot as plt\n",
    "from matplotlib.pyplot import figure\n",
    "# figure(num=None, figsize=(20,10), dpi=200, facecolor='w', edgecolor='k')\n",
    "# plt.figure(figsize=(40,20))\n",
    "ax = xgb.plot_importance(gbm)\n",
    "fig = ax.figure\n",
    "fig.set_size_inches(40,20)"
   ]
  },
  {
   "cell_type": "code",
   "execution_count": null,
   "id": "2de09c2d",
   "metadata": {},
   "outputs": [],
   "source": [
    "# plotting the accuracy for training and test\n",
    "plt.figure(figsize=(14, 5))\n",
    "ax = plt.subplot(111)\n",
    "\n",
    "models = ['Logistic Regression', 'Decision Tree Gini', 'Decision Tree Entropy', 'Random Forests Gini', 'Random Forests Entropy', 'XGBoost' ]\n",
    "values = [accuracy_logreg, accuracy_dtg, accuracy_dte, accuracy_forrestg, accuracy_forreste, accuracy_xgb]\n",
    "model = np.arange(len(models))\n",
    "\n",
    "plt.bar(model, values, align='center', width = 0.15, alpha=0.7, color = 'red', label= 'accuracy')\n",
    "plt.xticks(model, models)\n",
    "\n",
    "\n",
    "\n",
    "ax = plt.subplot(111)\n",
    "\n",
    "models = ['Logistic Regression', 'Decision Tree Gini', 'Decision Tree Entropy', 'Random Forests Gini', 'Random Forests Entropy', 'XGBoost' ]\n",
    "values = [precision_logreg, precision_dtg, precision_dte, precision_forrestg, precision_forreste, precision_xgb]\n",
    "model = np.arange(len(models))\n",
    "\n",
    "plt.bar(model+0.15, values, align='center', width = 0.15, alpha=0.7, color = 'blue', label = 'precision')\n",
    "plt.xticks(model, models)\n",
    "\n",
    "\n",
    "\n",
    "ax = plt.subplot(111)\n",
    "\n",
    "models = ['Logistic Regression', 'Decision Tree Gini', 'Decision Tree Entropy', 'Random Forests Gini', 'Random Forests Entropy', 'XGBoost']\n",
    "values = [recall_logreg, recall_dtg, recall_dte, recall_forrestg, recall_forreste, recall_xgb]\n",
    "model = np.arange(len(models))\n",
    "\n",
    "plt.bar(model+0.3, values, align='center', width = 0.15, alpha=0.7, color = 'green', label = 'recall')\n",
    "plt.xticks(model, models)\n",
    "\n",
    "\n",
    "\n",
    "ax = plt.subplot(111)\n",
    "\n",
    "models = ['Logistic Regression', 'Decision Tree Gini', 'Decision Tree Entropy', 'Random Forests Gini', 'Random Forests Entropy', 'XGBoost']\n",
    "values = [auc_logreg, auc_dtg, auc_dte, auc_forrestg, auc_forreste, auc_xgb]\n",
    "model = np.arange(len(models))\n",
    "\n",
    "plt.bar(model+0.45, values, align='center', width = 0.15, alpha=0.7, color = 'orange', label = 'AUC')\n",
    "plt.xticks(model, models)\n",
    "\n",
    "\n",
    "\n",
    "plt.ylabel('Performance Metrics for Different models')\n",
    "plt.title('Model')\n",
    "    \n",
    "# removing the axis on the top and right of the plot window\n",
    "ax.spines['right'].set_visible(False)\n",
    "ax.spines['top'].set_visible(False)\n",
    "ax.legend()\n",
    "\n",
    "plt.show()"
   ]
  },
  {
   "cell_type": "code",
   "execution_count": null,
   "id": "4909120c",
   "metadata": {},
   "outputs": [],
   "source": [
    "def result (y_test_new,y_test_predict):\n",
    "\t\n",
    "\tprint(\"Accuracy is {0:.2f}\".format(accuracy_score(y_test_new, y_test_predict)))\n",
    "\tprint(\"Precision is {0:.2f}\".format(precision_score(y_test_new, y_test_predict)))\n",
    "\tprint(\"Recall is {0:.2f}\".format(recall_score(y_test_new, y_test_predict)))\n",
    "\tprint(\"AUC is {0:.2f}\".format(roc_auc_score(y_test_new, y_test_predict)))\n"
   ]
  },
  {
   "cell_type": "code",
   "execution_count": null,
   "id": "76a92914",
   "metadata": {},
   "outputs": [],
   "source": [
    "# plotting the accuracy for training and test\n",
    "plt.figure(figsize=(14, 5))\n",
    "ax = plt.subplot(111)\n",
    "\n",
    "models = ['Logistic Regression', 'Decision Tree Gini', 'Decision Tree Entropy', 'Random Forests Gini', 'Random Forests Entropy', 'XGBoost' ]\n",
    "values = [accuracy_logreg, accuracy_dtg, accuracy_dte, accuracy_forrestg, accuracy_forreste, accuracy_xgb]\n",
    "model = np.arange(len(models))\n",
    "\n",
    "plt.bar(model, values, align='center', width = 0.15, alpha=0.7, color = 'red', label= 'accuracy')\n",
    "plt.xticks(model, models)\n",
    "\n",
    "\n",
    "\n",
    "ax = plt.subplot(111)\n",
    "\n",
    "models = ['Logistic Regression', 'Decision Tree Gini', 'Decision Tree Entropy', 'Random Forests Gini', 'Random Forests Entropy', 'XGBoost' ]\n",
    "values = [precision_logreg, precision_dtg, precision_dte, precision_forrestg, precision_forreste, precision_xgb]\n",
    "model = np.arange(len(models))\n",
    "\n",
    "plt.bar(model+0.15, values, align='center', width = 0.15, alpha=0.7, color = 'blue', label = 'precision')\n",
    "plt.xticks(model, models)\n",
    "\n",
    "\n",
    "\n",
    "ax = plt.subplot(111)\n",
    "\n",
    "models = ['Logistic Regression', 'Decision Tree Gini', 'Decision Tree Entropy', 'Random Forests Gini', 'Random Forests Entropy', 'XGBoost']\n",
    "values = [recall_logreg, recall_dtg, recall_dte, recall_forrestg, recall_forreste, recall_xgb]\n",
    "model = np.arange(len(models))\n",
    "\n",
    "plt.bar(model+0.3, values, align='center', width = 0.15, alpha=0.7, color = 'green', label = 'recall')\n",
    "plt.xticks(model, models)\n",
    "\n",
    "\n",
    "\n",
    "ax = plt.subplot(111)\n",
    "\n",
    "models = ['Logistic Regression', 'Decision Tree Gini', 'Decision Tree Entropy', 'Random Forests Gini', 'Random Forests Entropy', 'XGBoost']\n",
    "values = [auc_logreg, auc_dtg, auc_dte, auc_forrestg, auc_forreste, auc_xgb]\n",
    "model = np.arange(len(models))\n",
    "\n",
    "plt.bar(model+0.45, values, align='center', width = 0.15, alpha=0.7, color = 'orange', label = 'AUC')\n",
    "plt.xticks(model, models)\n",
    "\n",
    "\n",
    "\n",
    "plt.ylabel('Performance Metrics for Different models')\n",
    "plt.title('Model')\n",
    "    \n",
    "# removing the axis on the top and right of the plot window\n",
    "ax.spines['right'].set_visible(False)\n",
    "ax.spines['top'].set_visible(False)\n",
    "ax.legend()\n",
    "\n",
    "plt.show()"
   ]
  }
 ],
 "metadata": {
  "kernelspec": {
   "display_name": "Python 3 (ipykernel)",
   "language": "python",
   "name": "python3"
  },
  "language_info": {
   "codemirror_mode": {
    "name": "ipython",
    "version": 3
   },
   "file_extension": ".py",
   "mimetype": "text/x-python",
   "name": "python",
   "nbconvert_exporter": "python",
   "pygments_lexer": "ipython3",
   "version": "3.11.9"
  }
 },
 "nbformat": 4,
 "nbformat_minor": 5
}
